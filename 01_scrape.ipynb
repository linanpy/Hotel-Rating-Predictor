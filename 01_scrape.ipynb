{
 "cells": [
  {
   "cell_type": "code",
   "execution_count": 3,
   "metadata": {},
   "outputs": [],
   "source": [
    "from urllib.request import urlopen\n",
    "from bs4 import BeautifulSoup\n",
    "import requests\n",
    "import time, os\n",
    "\n",
    "from datetime import datetime, timedelta\n",
    "from itertools import repeat\n",
    "\n",
    "import dateutil.parser\n",
    "\n",
    "from selenium import webdriver\n",
    "from selenium.webdriver.common.keys import Keys\n",
    "from selenium.common.exceptions import ElementClickInterceptedException, StaleElementReferenceException, NoSuchWindowException\n",
    "from selenium.webdriver.common.by import By\n",
    "from selenium.webdriver.support.ui import WebDriverWait\n",
    "from selenium.webdriver.support import expected_conditions as EC\n",
    "\n",
    "import re\n",
    "import json\n",
    "\n",
    "import pandas as pd\n",
    "import numpy as np"
   ]
  },
  {
   "cell_type": "code",
   "execution_count": 4,
   "metadata": {},
   "outputs": [],
   "source": [
    "chromedriver = \"/Applications/chromedriver\"\n",
    "os.environ[\"webdriver.chrome.driver\"] = chromedriver\n",
    "driver = webdriver.Chrome(chromedriver)"
   ]
  },
  {
   "cell_type": "code",
   "execution_count": null,
   "metadata": {},
   "outputs": [],
   "source": [
    "driver.get('https://www.tripadvisor.com.sg/Hotels-g294265-Singapore-Hotels.html')\n",
    "soup = BeautifulSoup(driver.page_source, \"html.parser\")"
   ]
  },
  {
   "cell_type": "code",
   "execution_count": null,
   "metadata": {},
   "outputs": [],
   "source": [
    "columns = ['hotel_name', 'rating', 'walk_score', 'res_score', 'attraction_score', 'num_reviews2', 'num_QA', 'num_Tips', 'price_range', 'num_rooms']\n",
    "df = pd.DataFrame([], columns = columns)"
   ]
  },
  {
   "cell_type": "code",
   "execution_count": null,
   "metadata": {},
   "outputs": [],
   "source": [
    "list_of_hotels = []\n",
    "\n",
    "all_hotels_on_page = driver.find_elements_by_xpath('//div[@class=\"listing_title\"]//a')  \n",
    "\n",
    "try:\n",
    "    hotel_name = soup.find('h1', id=\"HEADING\").text        \n",
    "    print('hotel_name:', hotel_name)\n",
    "    list_of_hotels.append(hotel_name)\n",
    "except:\n",
    "    pass\n",
    "\n",
    "try:\n",
    "    rating = soup.find('span', class_='hotels-hotel-review-about-with-photos-Reviews__overallRating--vElGA').contents[0]\n",
    "    pass\n",
    "except:\n",
    "    list_of_hotels.append('NA')\n",
    "else:\n",
    "    list_of_hotels.append(rating)\n",
    "\n",
    "\n",
    "try: \n",
    "    walk_score = re.findall(\"^[0-9]+\", soup.find_all('span', class_='hotels-hotel-review-location-layout-Highlight__number--S3wsZ hotels-hotel-review-location-layout-Highlight__green--3lccI')[0].text)\n",
    "    print('walk_score:', walk_score)\n",
    "except:\n",
    "    list_of_hotels.append('NA')\n",
    "else:\n",
    "    list_of_hotels.append(walk_score)\n",
    "    \n",
    "try:\n",
    "    res_score = re.findall(\"^[0-9]+\", soup.find_all('span', class_='hotels-hotel-review-location-layout-Highlight__number--S3wsZ hotels-hotel-review-location-layout-Highlight__orange--1N-BP')[0].text)\n",
    "except:\n",
    "    list_of_hotels.append('NA')\n",
    "else:\n",
    "    list_of_hotels.append(res_score)\n",
    "\n",
    "try:\n",
    "    attraction_score = re.findall(\"^[0-9]+\", soup.find_all('span', class_='hotels-hotel-review-location-layout-Highlight__number--S3wsZ hotels-hotel-review-location-layout-Highlight__blue--2qc3K')[0].text)\n",
    "except:\n",
    "    list_of_hotels.append('NA')\n",
    "else:\n",
    "    list_of_hotels.append(attraction_score)\n",
    "\n",
    "\n",
    "com_con = soup.find_all('span', class_='hotels-community-content-common-TabAboveHeader__tabCount--26Tct')\n",
    "try: \n",
    "    num_reviews = com_con[0].text\n",
    "except:\n",
    "    list_of_hotels.append('NA')\n",
    "else:\n",
    "    list_of_hotels.append(num_reviews)\n",
    "\n",
    "try:\n",
    "    num_QA = com_con[1].text\n",
    "except:\n",
    "    list_of_hotels.append('NA')\n",
    "else:\n",
    "    list_of_hotels.append(num_QA)\n",
    "\n",
    "try:\n",
    "    num_Tips = com_con[2].text\n",
    "except:\n",
    "    list_of_hotels.append('NA')\n",
    "else:\n",
    "    list_of_hotels.append(num_Tips)\n",
    "\n",
    "\n",
    "try:\n",
    "    price_range = (str(soup.find('div', class_='hotels-hotel-review-about-addendum-AddendumItem__content--iVts5').text)).split('(')[0]\n",
    "    \n",
    "except:\n",
    "    list_of_hotels.append('NA')\n",
    "else:\n",
    "    list_of_hotels.append(price_range)\n",
    "    \n",
    "allfeatures = soup.find_all('div', class_='ssr-init-26f hotels-hotel-review-layout-Section__plain--3fYKb')\n",
    "for div in allfeatures:\n",
    "    num_rooms = (div.find_all('div')[-1].text)            \n",
    "list_of_hotels.append(num_rooms)\n",
    "\n",
    "time.sleep(1)\n"
   ]
  },
  {
   "cell_type": "code",
   "execution_count": null,
   "metadata": {},
   "outputs": [],
   "source": [
    "#save to dataframe \n",
    "df = df.append(pd.DataFrame(np.array(list_of_hotels).reshape(-1,len(list_of_hotels)), columns = columns), ignore_index=True)\n",
    "\n",
    "driver.switch_to.window(driver.window_handles[0])\n",
    "\n",
    "df.to_csv('TAhotels.csv', encoding='utf-8', index=False)"
   ]
  }
 ],
 "metadata": {
  "kernelspec": {
   "display_name": "Python 3",
   "language": "python",
   "name": "python3"
  },
  "language_info": {
   "codemirror_mode": {
    "name": "ipython",
    "version": 3
   },
   "file_extension": ".py",
   "mimetype": "text/x-python",
   "name": "python",
   "nbconvert_exporter": "python",
   "pygments_lexer": "ipython3",
   "version": "3.7.6"
  }
 },
 "nbformat": 4,
 "nbformat_minor": 4
}
