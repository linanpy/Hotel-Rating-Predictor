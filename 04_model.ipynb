{
 "cells": [
  {
   "cell_type": "code",
   "execution_count": 67,
   "metadata": {},
   "outputs": [],
   "source": [
    "import pandas as pd\n",
    "import numpy as np\n",
    "\n",
    "import statsmodels.api as sm\n",
    "import statsmodels.formula.api as smf\n",
    "import patsy\n",
    "import scipy.stats as stats\n",
    "\n",
    "import seaborn as sns\n",
    "import matplotlib.pyplot as plt\n",
    "\n",
    "from sklearn.model_selection import train_test_split\n",
    "from sklearn import preprocessing\n",
    "from sklearn.linear_model import LinearRegression, Ridge, RidgeCV\n",
    "from sklearn.preprocessing import StandardScaler, PolynomialFeatures, scale\n",
    "from sklearn.metrics import mean_squared_error\n",
    "from sklearn.model_selection import KFold\n",
    "from sklearn.preprocessing import StandardScaler, PolynomialFeatures\n",
    "from sklearn.preprocessing import MinMaxScaler\n",
    "from sklearn.linear_model import LinearRegression, Lasso, LassoCV, Ridge, RidgeCV\n",
    "\n",
    "%matplotlib inline"
   ]
  },
  {
   "cell_type": "code",
   "execution_count": 53,
   "metadata": {},
   "outputs": [],
   "source": [
    "#Unpickle file for modeling\n",
    "df = pd.read_pickle(\"./modeling_df.pkl\")"
   ]
  },
  {
   "cell_type": "code",
   "execution_count": 3,
   "metadata": {},
   "outputs": [
    {
     "name": "stdout",
     "output_type": "stream",
     "text": [
      "<class 'pandas.core.frame.DataFrame'>\n",
      "Int64Index: 292 entries, 19 to 39\n",
      "Data columns (total 12 columns):\n",
      "hotel_name          292 non-null object\n",
      "rating              292 non-null float64\n",
      "walk_score          292 non-null int64\n",
      "res_score           292 non-null int64\n",
      "attraction_score    292 non-null int64\n",
      "num_reviews         292 non-null int64\n",
      "num_QA              292 non-null int64\n",
      "num_Tips            292 non-null float64\n",
      "num_rooms           292 non-null float64\n",
      "min_price           292 non-null float64\n",
      "max_price           292 non-null float64\n",
      "avg_price           292 non-null float64\n",
      "dtypes: float64(6), int64(5), object(1)\n",
      "memory usage: 29.7+ KB\n"
     ]
    }
   ],
   "source": [
    "df.info()"
   ]
  },
  {
   "cell_type": "code",
   "execution_count": 9,
   "metadata": {},
   "outputs": [
    {
     "data": {
      "text/html": [
       "<div>\n",
       "<style scoped>\n",
       "    .dataframe tbody tr th:only-of-type {\n",
       "        vertical-align: middle;\n",
       "    }\n",
       "\n",
       "    .dataframe tbody tr th {\n",
       "        vertical-align: top;\n",
       "    }\n",
       "\n",
       "    .dataframe thead th {\n",
       "        text-align: right;\n",
       "    }\n",
       "</style>\n",
       "<table border=\"1\" class=\"dataframe\">\n",
       "  <thead>\n",
       "    <tr style=\"text-align: right;\">\n",
       "      <th></th>\n",
       "      <th>hotel_name</th>\n",
       "      <th>rating</th>\n",
       "      <th>walk_score</th>\n",
       "      <th>res_score</th>\n",
       "      <th>attraction_score</th>\n",
       "      <th>num_reviews</th>\n",
       "      <th>num_QA</th>\n",
       "      <th>num_Tips</th>\n",
       "      <th>num_rooms</th>\n",
       "      <th>min_price</th>\n",
       "      <th>max_price</th>\n",
       "      <th>avg_price</th>\n",
       "      <th>walk_perfect</th>\n",
       "    </tr>\n",
       "  </thead>\n",
       "  <tbody>\n",
       "    <tr>\n",
       "      <th>19</th>\n",
       "      <td>30 Bencoolen</td>\n",
       "      <td>4.5</td>\n",
       "      <td>100</td>\n",
       "      <td>12.463238</td>\n",
       "      <td>6.492837</td>\n",
       "      <td>8.855534</td>\n",
       "      <td>3.781731</td>\n",
       "      <td>8.263384</td>\n",
       "      <td>6.313775</td>\n",
       "      <td>7.024745</td>\n",
       "      <td>2.810650</td>\n",
       "      <td>3.067700</td>\n",
       "      <td>1</td>\n",
       "    </tr>\n",
       "    <tr>\n",
       "      <th>6</th>\n",
       "      <td>5footway.inn Project Ann Siang</td>\n",
       "      <td>3.5</td>\n",
       "      <td>100</td>\n",
       "      <td>16.751955</td>\n",
       "      <td>8.586328</td>\n",
       "      <td>7.317770</td>\n",
       "      <td>2.619422</td>\n",
       "      <td>5.911772</td>\n",
       "      <td>3.863909</td>\n",
       "      <td>4.158465</td>\n",
       "      <td>2.636037</td>\n",
       "      <td>2.750133</td>\n",
       "      <td>1</td>\n",
       "    </tr>\n",
       "    <tr>\n",
       "      <th>44</th>\n",
       "      <td>7 Wonders Hostel</td>\n",
       "      <td>3.5</td>\n",
       "      <td>97</td>\n",
       "      <td>11.878604</td>\n",
       "      <td>4.011113</td>\n",
       "      <td>6.349927</td>\n",
       "      <td>2.138635</td>\n",
       "      <td>4.285577</td>\n",
       "      <td>2.462549</td>\n",
       "      <td>4.111013</td>\n",
       "      <td>2.769541</td>\n",
       "      <td>2.924059</td>\n",
       "      <td>0</td>\n",
       "    </tr>\n",
       "    <tr>\n",
       "      <th>54</th>\n",
       "      <td>7 Wonders Hostel At Upper Dickson</td>\n",
       "      <td>4.5</td>\n",
       "      <td>100</td>\n",
       "      <td>11.156678</td>\n",
       "      <td>5.849254</td>\n",
       "      <td>1.489663</td>\n",
       "      <td>0.000000</td>\n",
       "      <td>0.000000</td>\n",
       "      <td>5.422903</td>\n",
       "      <td>3.732644</td>\n",
       "      <td>2.699775</td>\n",
       "      <td>2.820226</td>\n",
       "      <td>1</td>\n",
       "    </tr>\n",
       "    <tr>\n",
       "      <th>13</th>\n",
       "      <td>@ Little Red Dot</td>\n",
       "      <td>4.0</td>\n",
       "      <td>90</td>\n",
       "      <td>9.124760</td>\n",
       "      <td>3.287134</td>\n",
       "      <td>8.526637</td>\n",
       "      <td>1.577851</td>\n",
       "      <td>8.137208</td>\n",
       "      <td>3.360922</td>\n",
       "      <td>3.393095</td>\n",
       "      <td>2.387583</td>\n",
       "      <td>2.429058</td>\n",
       "      <td>0</td>\n",
       "    </tr>\n",
       "  </tbody>\n",
       "</table>\n",
       "</div>"
      ],
      "text/plain": [
       "                           hotel_name  rating  walk_score  res_score  \\\n",
       "19                       30 Bencoolen     4.5         100  12.463238   \n",
       "6      5footway.inn Project Ann Siang     3.5         100  16.751955   \n",
       "44                   7 Wonders Hostel     3.5          97  11.878604   \n",
       "54  7 Wonders Hostel At Upper Dickson     4.5         100  11.156678   \n",
       "13                   @ Little Red Dot     4.0          90   9.124760   \n",
       "\n",
       "    attraction_score  num_reviews    num_QA  num_Tips  num_rooms  min_price  \\\n",
       "19          6.492837     8.855534  3.781731  8.263384   6.313775   7.024745   \n",
       "6           8.586328     7.317770  2.619422  5.911772   3.863909   4.158465   \n",
       "44          4.011113     6.349927  2.138635  4.285577   2.462549   4.111013   \n",
       "54          5.849254     1.489663  0.000000  0.000000   5.422903   3.732644   \n",
       "13          3.287134     8.526637  1.577851  8.137208   3.360922   3.393095   \n",
       "\n",
       "    max_price  avg_price  walk_perfect  \n",
       "19   2.810650   3.067700             1  \n",
       "6    2.636037   2.750133             1  \n",
       "44   2.769541   2.924059             0  \n",
       "54   2.699775   2.820226             1  \n",
       "13   2.387583   2.429058             0  "
      ]
     },
     "execution_count": 9,
     "metadata": {},
     "output_type": "execute_result"
    }
   ],
   "source": [
    "df.head()"
   ]
  },
  {
   "cell_type": "markdown",
   "metadata": {},
   "source": [
    "## Diagnostic plots"
   ]
  },
  {
   "cell_type": "code",
   "execution_count": 3,
   "metadata": {},
   "outputs": [],
   "source": [
    "data = df[['res_score', 'attraction_score','num_reviews','num_QA','num_Tips','num_rooms', 'walk_perfect', 'min_price','max_price','avg_price']] #'walk_score', 'res_score', 'attraction_score','num_reviews', 'num_QA', 'num_Tips', 'num_rooms', 'min_price','max_price', 'avg_price\n",
    "\n",
    "target = df['rating'] \n",
    "\n",
    "X, y = data, target"
   ]
  },
  {
   "cell_type": "code",
   "execution_count": 4,
   "metadata": {},
   "outputs": [
    {
     "data": {
      "image/png": "[encoded data removed]",
      "text/plain": [
       "<Figure size 1080x360 with 3 Axes>"
      ]
     },
     "metadata": {
      "needs_background": "light"
     },
     "output_type": "display_data"
    }
   ],
   "source": [
    "#redid EDA \n",
    "#plotting diagnostics again\n",
    "#after boxcox transformation\n",
    "data = df[['res_score', 'attraction_score','num_reviews','num_QA','num_Tips','num_rooms', 'walk_perfect', 'min_price','max_price','avg_price']] #'walk_score', 'res_score', 'attraction_score','num_reviews', 'num_QA', 'num_Tips', 'num_rooms', 'min_price','max_price', 'avg_price\n",
    "\n",
    "target = df['rating'] \n",
    "plt.figure(figsize=(15,5))\n",
    "\n",
    "X, y = data, target\n",
    "\n",
    "rgr = LinearRegression()\n",
    "rgr.fit(X, y)\n",
    "pred = rgr.predict(X)\n",
    "\n",
    "plt.subplot(1, 3, 1)\n",
    "plt.scatter(pred, y, alpha = 0.1)\n",
    "plt.title(\"Regular regression fit\")\n",
    "plt.xlabel(\"pred\")\n",
    "plt.ylabel(\"y\")\n",
    "\n",
    "plt.subplot(1, 3, 2)\n",
    "res = (y - pred)\n",
    "plt.scatter(pred, res, alpha = 0.1)\n",
    "plt.title(\"Regression residual plot\")\n",
    "plt.xlabel(\"prediction\")\n",
    "plt.ylabel(\"residuals\")\n",
    "\n",
    "plt.subplot(1, 3, 3)\n",
    "pred = rgr.predict(X)\n",
    "stats.probplot(res, dist=\"norm\", plot=plt)\n",
    "plt.title(\"Regular regression Q-Q plot\");"
   ]
  },
  {
   "cell_type": "markdown",
   "metadata": {},
   "source": [
    "\n"
   ]
  },
  {
   "cell_type": "markdown",
   "metadata": {},
   "source": [
    "### Baselining with OLS"
   ]
  },
  {
   "cell_type": "code",
   "execution_count": 40,
   "metadata": {},
   "outputs": [
    {
     "data": {
      "text/html": [
       "<table class=\"simpletable\">\n",
       "<caption>OLS Regression Results</caption>\n",
       "<tr>\n",
       "  <th>Dep. Variable:</th>         <td>rating</td>      <th>  R-squared:         </th> <td>   0.278</td>\n",
       "</tr>\n",
       "<tr>\n",
       "  <th>Model:</th>                   <td>OLS</td>       <th>  Adj. R-squared:    </th> <td>   0.253</td>\n",
       "</tr>\n",
       "<tr>\n",
       "  <th>Method:</th>             <td>Least Squares</td>  <th>  F-statistic:       </th> <td>   10.83</td>\n",
       "</tr>\n",
       "<tr>\n",
       "  <th>Date:</th>             <td>Thu, 11 Jun 2020</td> <th>  Prob (F-statistic):</th> <td>1.43e-15</td>\n",
       "</tr>\n",
       "<tr>\n",
       "  <th>Time:</th>                 <td>13:26:17</td>     <th>  Log-Likelihood:    </th> <td> -703.83</td>\n",
       "</tr>\n",
       "<tr>\n",
       "  <th>No. Observations:</th>      <td>   292</td>      <th>  AIC:               </th> <td>   1430.</td>\n",
       "</tr>\n",
       "<tr>\n",
       "  <th>Df Residuals:</th>          <td>   281</td>      <th>  BIC:               </th> <td>   1470.</td>\n",
       "</tr>\n",
       "<tr>\n",
       "  <th>Df Model:</th>              <td>    10</td>      <th>                     </th>     <td> </td>   \n",
       "</tr>\n",
       "<tr>\n",
       "  <th>Covariance Type:</th>      <td>nonrobust</td>    <th>                     </th>     <td> </td>   \n",
       "</tr>\n",
       "</table>\n",
       "<table class=\"simpletable\">\n",
       "<tr>\n",
       "          <td></td>            <th>coef</th>     <th>std err</th>      <th>t</th>      <th>P>|t|</th>  <th>[0.025</th>    <th>0.975]</th>  \n",
       "</tr>\n",
       "<tr>\n",
       "  <th>Intercept</th>        <td>  -18.8610</td> <td>    7.171</td> <td>   -2.630</td> <td> 0.009</td> <td>  -32.977</td> <td>   -4.745</td>\n",
       "</tr>\n",
       "<tr>\n",
       "  <th>res_score</th>        <td>    0.1451</td> <td>    0.123</td> <td>    1.181</td> <td> 0.239</td> <td>   -0.097</td> <td>    0.387</td>\n",
       "</tr>\n",
       "<tr>\n",
       "  <th>attraction_score</th> <td>    0.2740</td> <td>    0.194</td> <td>    1.415</td> <td> 0.158</td> <td>   -0.107</td> <td>    0.655</td>\n",
       "</tr>\n",
       "<tr>\n",
       "  <th>num_reviews</th>      <td>   -0.0185</td> <td>    0.157</td> <td>   -0.118</td> <td> 0.906</td> <td>   -0.328</td> <td>    0.291</td>\n",
       "</tr>\n",
       "<tr>\n",
       "  <th>num_QA</th>           <td>    0.9135</td> <td>    0.254</td> <td>    3.594</td> <td> 0.000</td> <td>    0.413</td> <td>    1.414</td>\n",
       "</tr>\n",
       "<tr>\n",
       "  <th>num_Tips</th>         <td>   -0.2086</td> <td>    0.125</td> <td>   -1.669</td> <td> 0.096</td> <td>   -0.455</td> <td>    0.037</td>\n",
       "</tr>\n",
       "<tr>\n",
       "  <th>num_rooms</th>        <td>   -0.3881</td> <td>    0.119</td> <td>   -3.254</td> <td> 0.001</td> <td>   -0.623</td> <td>   -0.153</td>\n",
       "</tr>\n",
       "<tr>\n",
       "  <th>walk_perfect</th>     <td>   -1.1790</td> <td>    0.606</td> <td>   -1.946</td> <td> 0.053</td> <td>   -2.372</td> <td>    0.014</td>\n",
       "</tr>\n",
       "<tr>\n",
       "  <th>min_price</th>        <td>    1.8045</td> <td>    0.655</td> <td>    2.754</td> <td> 0.006</td> <td>    0.515</td> <td>    3.094</td>\n",
       "</tr>\n",
       "<tr>\n",
       "  <th>max_price</th>        <td>   35.0240</td> <td>   17.526</td> <td>    1.998</td> <td> 0.047</td> <td>    0.525</td> <td>   69.523</td>\n",
       "</tr>\n",
       "<tr>\n",
       "  <th>avg_price</th>        <td>  -27.2915</td> <td>   15.563</td> <td>   -1.754</td> <td> 0.081</td> <td>  -57.927</td> <td>    3.344</td>\n",
       "</tr>\n",
       "</table>\n",
       "<table class=\"simpletable\">\n",
       "<tr>\n",
       "  <th>Omnibus:</th>       <td> 7.783</td> <th>  Durbin-Watson:     </th> <td>   2.017</td>\n",
       "</tr>\n",
       "<tr>\n",
       "  <th>Prob(Omnibus):</th> <td> 0.020</td> <th>  Jarque-Bera (JB):  </th> <td>   7.956</td>\n",
       "</tr>\n",
       "<tr>\n",
       "  <th>Skew:</th>          <td> 0.323</td> <th>  Prob(JB):          </th> <td>  0.0187</td>\n",
       "</tr>\n",
       "<tr>\n",
       "  <th>Kurtosis:</th>      <td> 3.486</td> <th>  Cond. No.          </th> <td>2.74e+03</td>\n",
       "</tr>\n",
       "</table><br/><br/>Warnings:<br/>[1] Standard Errors assume that the covariance matrix of the errors is correctly specified.<br/>[2] The condition number is large, 2.74e+03. This might indicate that there are<br/>strong multicollinearity or other numerical problems."
      ],
      "text/plain": [
       "<class 'statsmodels.iolib.summary.Summary'>\n",
       "\"\"\"\n",
       "                            OLS Regression Results                            \n",
       "==============================================================================\n",
       "Dep. Variable:                 rating   R-squared:                       0.278\n",
       "Model:                            OLS   Adj. R-squared:                  0.253\n",
       "Method:                 Least Squares   F-statistic:                     10.83\n",
       "Date:                Thu, 11 Jun 2020   Prob (F-statistic):           1.43e-15\n",
       "Time:                        13:26:17   Log-Likelihood:                -703.83\n",
       "No. Observations:                 292   AIC:                             1430.\n",
       "Df Residuals:                     281   BIC:                             1470.\n",
       "Df Model:                          10                                         \n",
       "Covariance Type:            nonrobust                                         \n",
       "====================================================================================\n",
       "                       coef    std err          t      P>|t|      [0.025      0.975]\n",
       "------------------------------------------------------------------------------------\n",
       "Intercept          -18.8610      7.171     -2.630      0.009     -32.977      -4.745\n",
       "res_score            0.1451      0.123      1.181      0.239      -0.097       0.387\n",
       "attraction_score     0.2740      0.194      1.415      0.158      -0.107       0.655\n",
       "num_reviews         -0.0185      0.157     -0.118      0.906      -0.328       0.291\n",
       "num_QA               0.9135      0.254      3.594      0.000       0.413       1.414\n",
       "num_Tips            -0.2086      0.125     -1.669      0.096      -0.455       0.037\n",
       "num_rooms           -0.3881      0.119     -3.254      0.001      -0.623      -0.153\n",
       "walk_perfect        -1.1790      0.606     -1.946      0.053      -2.372       0.014\n",
       "min_price            1.8045      0.655      2.754      0.006       0.515       3.094\n",
       "max_price           35.0240     17.526      1.998      0.047       0.525      69.523\n",
       "avg_price          -27.2915     15.563     -1.754      0.081     -57.927       3.344\n",
       "==============================================================================\n",
       "Omnibus:                        7.783   Durbin-Watson:                   2.017\n",
       "Prob(Omnibus):                  0.020   Jarque-Bera (JB):                7.956\n",
       "Skew:                           0.323   Prob(JB):                       0.0187\n",
       "Kurtosis:                       3.486   Cond. No.                     2.74e+03\n",
       "==============================================================================\n",
       "\n",
       "Warnings:\n",
       "[1] Standard Errors assume that the covariance matrix of the errors is correctly specified.\n",
       "[2] The condition number is large, 2.74e+03. This might indicate that there are\n",
       "strong multicollinearity or other numerical problems.\n",
       "\"\"\""
      ]
     },
     "execution_count": 40,
     "metadata": {},
     "output_type": "execute_result"
    }
   ],
   "source": [
    "#1st model R^2 0.278, Adj. R-squared: 0.25\n",
    "# Create your feature matrix (X) and target vector (y)\n",
    "y, X = patsy.dmatrices('rating ~ res_score + attraction_score + num_reviews + num_QA + num_Tips + num_rooms + walk_perfect + min_price + max_price + avg_price', data=df, return_type=\"dataframe\")\n",
    "\n",
    "# Create your model\n",
    "model = sm.OLS(y, X)\n",
    "\n",
    "# Fit your model to your training set\n",
    "fit = model.fit()\n",
    "\n",
    "# Print summary statistics of the model's performance\n",
    "fit.summary()\n",
    "# Create your model\n",
    "model = sm.OLS(y, X)\n",
    "\n",
    "# Fit your model to your training set\n",
    "fit = model.fit()\n",
    "\n",
    "# Print summary statistics of the model's performance\n",
    "fit.summary()"
   ]
  },
  {
   "cell_type": "code",
   "execution_count": 41,
   "metadata": {},
   "outputs": [
    {
     "data": {
      "text/html": [
       "<table class=\"simpletable\">\n",
       "<caption>OLS Regression Results</caption>\n",
       "<tr>\n",
       "  <th>Dep. Variable:</th>         <td>rating</td>      <th>  R-squared:         </th> <td>   0.278</td>\n",
       "</tr>\n",
       "<tr>\n",
       "  <th>Model:</th>                   <td>OLS</td>       <th>  Adj. R-squared:    </th> <td>   0.255</td>\n",
       "</tr>\n",
       "<tr>\n",
       "  <th>Method:</th>             <td>Least Squares</td>  <th>  F-statistic:       </th> <td>   12.08</td>\n",
       "</tr>\n",
       "<tr>\n",
       "  <th>Date:</th>             <td>Thu, 11 Jun 2020</td> <th>  Prob (F-statistic):</th> <td>3.99e-16</td>\n",
       "</tr>\n",
       "<tr>\n",
       "  <th>Time:</th>                 <td>13:26:22</td>     <th>  Log-Likelihood:    </th> <td> -703.84</td>\n",
       "</tr>\n",
       "<tr>\n",
       "  <th>No. Observations:</th>      <td>   292</td>      <th>  AIC:               </th> <td>   1428.</td>\n",
       "</tr>\n",
       "<tr>\n",
       "  <th>Df Residuals:</th>          <td>   282</td>      <th>  BIC:               </th> <td>   1464.</td>\n",
       "</tr>\n",
       "<tr>\n",
       "  <th>Df Model:</th>              <td>     9</td>      <th>                     </th>     <td> </td>   \n",
       "</tr>\n",
       "<tr>\n",
       "  <th>Covariance Type:</th>      <td>nonrobust</td>    <th>                     </th>     <td> </td>   \n",
       "</tr>\n",
       "</table>\n",
       "<table class=\"simpletable\">\n",
       "<tr>\n",
       "          <td></td>            <th>coef</th>     <th>std err</th>      <th>t</th>      <th>P>|t|</th>  <th>[0.025</th>    <th>0.975]</th>  \n",
       "</tr>\n",
       "<tr>\n",
       "  <th>Intercept</th>        <td>  -18.6652</td> <td>    6.963</td> <td>   -2.681</td> <td> 0.008</td> <td>  -32.371</td> <td>   -4.959</td>\n",
       "</tr>\n",
       "<tr>\n",
       "  <th>res_score</th>        <td>    0.1455</td> <td>    0.123</td> <td>    1.187</td> <td> 0.236</td> <td>   -0.096</td> <td>    0.387</td>\n",
       "</tr>\n",
       "<tr>\n",
       "  <th>attraction_score</th> <td>    0.2720</td> <td>    0.193</td> <td>    1.413</td> <td> 0.159</td> <td>   -0.107</td> <td>    0.651</td>\n",
       "</tr>\n",
       "<tr>\n",
       "  <th>num_QA</th>           <td>    0.8999</td> <td>    0.226</td> <td>    3.980</td> <td> 0.000</td> <td>    0.455</td> <td>    1.345</td>\n",
       "</tr>\n",
       "<tr>\n",
       "  <th>num_Tips</th>         <td>   -0.2191</td> <td>    0.087</td> <td>   -2.509</td> <td> 0.013</td> <td>   -0.391</td> <td>   -0.047</td>\n",
       "</tr>\n",
       "<tr>\n",
       "  <th>num_rooms</th>        <td>   -0.3906</td> <td>    0.117</td> <td>   -3.333</td> <td> 0.001</td> <td>   -0.621</td> <td>   -0.160</td>\n",
       "</tr>\n",
       "<tr>\n",
       "  <th>walk_perfect</th>     <td>   -1.1766</td> <td>    0.604</td> <td>   -1.947</td> <td> 0.053</td> <td>   -2.366</td> <td>    0.013</td>\n",
       "</tr>\n",
       "<tr>\n",
       "  <th>min_price</th>        <td>    1.7948</td> <td>    0.649</td> <td>    2.766</td> <td> 0.006</td> <td>    0.517</td> <td>    3.072</td>\n",
       "</tr>\n",
       "<tr>\n",
       "  <th>max_price</th>        <td>   34.6173</td> <td>   17.152</td> <td>    2.018</td> <td> 0.045</td> <td>    0.856</td> <td>   68.379</td>\n",
       "</tr>\n",
       "<tr>\n",
       "  <th>avg_price</th>        <td>  -26.9694</td> <td>   15.293</td> <td>   -1.763</td> <td> 0.079</td> <td>  -57.073</td> <td>    3.134</td>\n",
       "</tr>\n",
       "</table>\n",
       "<table class=\"simpletable\">\n",
       "<tr>\n",
       "  <th>Omnibus:</th>       <td> 8.100</td> <th>  Durbin-Watson:     </th> <td>   2.016</td>\n",
       "</tr>\n",
       "<tr>\n",
       "  <th>Prob(Omnibus):</th> <td> 0.017</td> <th>  Jarque-Bera (JB):  </th> <td>   8.327</td>\n",
       "</tr>\n",
       "<tr>\n",
       "  <th>Skew:</th>          <td> 0.331</td> <th>  Prob(JB):          </th> <td>  0.0156</td>\n",
       "</tr>\n",
       "<tr>\n",
       "  <th>Kurtosis:</th>      <td> 3.497</td> <th>  Cond. No.          </th> <td>2.44e+03</td>\n",
       "</tr>\n",
       "</table><br/><br/>Warnings:<br/>[1] Standard Errors assume that the covariance matrix of the errors is correctly specified.<br/>[2] The condition number is large, 2.44e+03. This might indicate that there are<br/>strong multicollinearity or other numerical problems."
      ],
      "text/plain": [
       "<class 'statsmodels.iolib.summary.Summary'>\n",
       "\"\"\"\n",
       "                            OLS Regression Results                            \n",
       "==============================================================================\n",
       "Dep. Variable:                 rating   R-squared:                       0.278\n",
       "Model:                            OLS   Adj. R-squared:                  0.255\n",
       "Method:                 Least Squares   F-statistic:                     12.08\n",
       "Date:                Thu, 11 Jun 2020   Prob (F-statistic):           3.99e-16\n",
       "Time:                        13:26:22   Log-Likelihood:                -703.84\n",
       "No. Observations:                 292   AIC:                             1428.\n",
       "Df Residuals:                     282   BIC:                             1464.\n",
       "Df Model:                           9                                         \n",
       "Covariance Type:            nonrobust                                         \n",
       "====================================================================================\n",
       "                       coef    std err          t      P>|t|      [0.025      0.975]\n",
       "------------------------------------------------------------------------------------\n",
       "Intercept          -18.6652      6.963     -2.681      0.008     -32.371      -4.959\n",
       "res_score            0.1455      0.123      1.187      0.236      -0.096       0.387\n",
       "attraction_score     0.2720      0.193      1.413      0.159      -0.107       0.651\n",
       "num_QA               0.8999      0.226      3.980      0.000       0.455       1.345\n",
       "num_Tips            -0.2191      0.087     -2.509      0.013      -0.391      -0.047\n",
       "num_rooms           -0.3906      0.117     -3.333      0.001      -0.621      -0.160\n",
       "walk_perfect        -1.1766      0.604     -1.947      0.053      -2.366       0.013\n",
       "min_price            1.7948      0.649      2.766      0.006       0.517       3.072\n",
       "max_price           34.6173     17.152      2.018      0.045       0.856      68.379\n",
       "avg_price          -26.9694     15.293     -1.763      0.079     -57.073       3.134\n",
       "==============================================================================\n",
       "Omnibus:                        8.100   Durbin-Watson:                   2.016\n",
       "Prob(Omnibus):                  0.017   Jarque-Bera (JB):                8.327\n",
       "Skew:                           0.331   Prob(JB):                       0.0156\n",
       "Kurtosis:                       3.497   Cond. No.                     2.44e+03\n",
       "==============================================================================\n",
       "\n",
       "Warnings:\n",
       "[1] Standard Errors assume that the covariance matrix of the errors is correctly specified.\n",
       "[2] The condition number is large, 2.44e+03. This might indicate that there are\n",
       "strong multicollinearity or other numerical problems.\n",
       "\"\"\""
      ]
     },
     "execution_count": 41,
     "metadata": {},
     "output_type": "execute_result"
    }
   ],
   "source": [
    "#2nd model - dropping highest p-values: num_reviews - adjusted R^2 improved\n",
    "lm2 = smf.ols('rating ~  res_score + attraction_score + num_QA + num_Tips + num_rooms + walk_perfect + min_price + max_price + avg_price', data=df)\n",
    "\n",
    "# Fit the model\n",
    "fit2 = lm2.fit()\n",
    "\n",
    "# Print summary statistics of the model's performance\n",
    "fit2.summary()"
   ]
  },
  {
   "cell_type": "code",
   "execution_count": 82,
   "metadata": {},
   "outputs": [
    {
     "data": {
      "text/html": [
       "<table class=\"simpletable\">\n",
       "<caption>OLS Regression Results</caption>\n",
       "<tr>\n",
       "  <th>Dep. Variable:</th>         <td>rating</td>      <th>  R-squared:         </th> <td>   0.275</td>\n",
       "</tr>\n",
       "<tr>\n",
       "  <th>Model:</th>                   <td>OLS</td>       <th>  Adj. R-squared:    </th> <td>   0.254</td>\n",
       "</tr>\n",
       "<tr>\n",
       "  <th>Method:</th>             <td>Least Squares</td>  <th>  F-statistic:       </th> <td>   13.39</td>\n",
       "</tr>\n",
       "<tr>\n",
       "  <th>Date:</th>             <td>Thu, 11 Jun 2020</td> <th>  Prob (F-statistic):</th> <td>2.02e-16</td>\n",
       "</tr>\n",
       "<tr>\n",
       "  <th>Time:</th>                 <td>14:01:03</td>     <th>  Log-Likelihood:    </th> <td> -704.57</td>\n",
       "</tr>\n",
       "<tr>\n",
       "  <th>No. Observations:</th>      <td>   292</td>      <th>  AIC:               </th> <td>   1427.</td>\n",
       "</tr>\n",
       "<tr>\n",
       "  <th>Df Residuals:</th>          <td>   283</td>      <th>  BIC:               </th> <td>   1460.</td>\n",
       "</tr>\n",
       "<tr>\n",
       "  <th>Df Model:</th>              <td>     8</td>      <th>                     </th>     <td> </td>   \n",
       "</tr>\n",
       "<tr>\n",
       "  <th>Covariance Type:</th>      <td>nonrobust</td>    <th>                     </th>     <td> </td>   \n",
       "</tr>\n",
       "</table>\n",
       "<table class=\"simpletable\">\n",
       "<tr>\n",
       "          <td></td>            <th>coef</th>     <th>std err</th>      <th>t</th>      <th>P>|t|</th>  <th>[0.025</th>    <th>0.975]</th>  \n",
       "</tr>\n",
       "<tr>\n",
       "  <th>Intercept</th>        <td>  -17.2126</td> <td>    6.859</td> <td>   -2.509</td> <td> 0.013</td> <td>  -30.715</td> <td>   -3.711</td>\n",
       "</tr>\n",
       "<tr>\n",
       "  <th>attraction_score</th> <td>    0.4389</td> <td>    0.132</td> <td>    3.335</td> <td> 0.001</td> <td>    0.180</td> <td>    0.698</td>\n",
       "</tr>\n",
       "<tr>\n",
       "  <th>num_QA</th>           <td>    0.8979</td> <td>    0.226</td> <td>    3.968</td> <td> 0.000</td> <td>    0.452</td> <td>    1.343</td>\n",
       "</tr>\n",
       "<tr>\n",
       "  <th>num_Tips</th>         <td>   -0.2135</td> <td>    0.087</td> <td>   -2.447</td> <td> 0.015</td> <td>   -0.385</td> <td>   -0.042</td>\n",
       "</tr>\n",
       "<tr>\n",
       "  <th>num_rooms</th>        <td>   -0.3983</td> <td>    0.117</td> <td>   -3.402</td> <td> 0.001</td> <td>   -0.629</td> <td>   -0.168</td>\n",
       "</tr>\n",
       "<tr>\n",
       "  <th>walk_perfect</th>     <td>   -1.0520</td> <td>    0.596</td> <td>   -1.766</td> <td> 0.078</td> <td>   -2.225</td> <td>    0.121</td>\n",
       "</tr>\n",
       "<tr>\n",
       "  <th>min_price</th>        <td>    1.7191</td> <td>    0.646</td> <td>    2.660</td> <td> 0.008</td> <td>    0.447</td> <td>    2.991</td>\n",
       "</tr>\n",
       "<tr>\n",
       "  <th>max_price</th>        <td>   32.6386</td> <td>   17.083</td> <td>    1.911</td> <td> 0.057</td> <td>   -0.987</td> <td>   66.264</td>\n",
       "</tr>\n",
       "<tr>\n",
       "  <th>avg_price</th>        <td>  -25.2370</td> <td>   15.235</td> <td>   -1.657</td> <td> 0.099</td> <td>  -55.224</td> <td>    4.750</td>\n",
       "</tr>\n",
       "</table>\n",
       "<table class=\"simpletable\">\n",
       "<tr>\n",
       "  <th>Omnibus:</th>       <td> 8.919</td> <th>  Durbin-Watson:     </th> <td>   1.993</td>\n",
       "</tr>\n",
       "<tr>\n",
       "  <th>Prob(Omnibus):</th> <td> 0.012</td> <th>  Jarque-Bera (JB):  </th> <td>   9.291</td>\n",
       "</tr>\n",
       "<tr>\n",
       "  <th>Skew:</th>          <td> 0.350</td> <th>  Prob(JB):          </th> <td> 0.00961</td>\n",
       "</tr>\n",
       "<tr>\n",
       "  <th>Kurtosis:</th>      <td> 3.523</td> <th>  Cond. No.          </th> <td>1.84e+03</td>\n",
       "</tr>\n",
       "</table><br/><br/>Warnings:<br/>[1] Standard Errors assume that the covariance matrix of the errors is correctly specified.<br/>[2] The condition number is large, 1.84e+03. This might indicate that there are<br/>strong multicollinearity or other numerical problems."
      ],
      "text/plain": [
       "<class 'statsmodels.iolib.summary.Summary'>\n",
       "\"\"\"\n",
       "                            OLS Regression Results                            \n",
       "==============================================================================\n",
       "Dep. Variable:                 rating   R-squared:                       0.275\n",
       "Model:                            OLS   Adj. R-squared:                  0.254\n",
       "Method:                 Least Squares   F-statistic:                     13.39\n",
       "Date:                Thu, 11 Jun 2020   Prob (F-statistic):           2.02e-16\n",
       "Time:                        14:01:03   Log-Likelihood:                -704.57\n",
       "No. Observations:                 292   AIC:                             1427.\n",
       "Df Residuals:                     283   BIC:                             1460.\n",
       "Df Model:                           8                                         \n",
       "Covariance Type:            nonrobust                                         \n",
       "====================================================================================\n",
       "                       coef    std err          t      P>|t|      [0.025      0.975]\n",
       "------------------------------------------------------------------------------------\n",
       "Intercept          -17.2126      6.859     -2.509      0.013     -30.715      -3.711\n",
       "attraction_score     0.4389      0.132      3.335      0.001       0.180       0.698\n",
       "num_QA               0.8979      0.226      3.968      0.000       0.452       1.343\n",
       "num_Tips            -0.2135      0.087     -2.447      0.015      -0.385      -0.042\n",
       "num_rooms           -0.3983      0.117     -3.402      0.001      -0.629      -0.168\n",
       "walk_perfect        -1.0520      0.596     -1.766      0.078      -2.225       0.121\n",
       "min_price            1.7191      0.646      2.660      0.008       0.447       2.991\n",
       "max_price           32.6386     17.083      1.911      0.057      -0.987      66.264\n",
       "avg_price          -25.2370     15.235     -1.657      0.099     -55.224       4.750\n",
       "==============================================================================\n",
       "Omnibus:                        8.919   Durbin-Watson:                   1.993\n",
       "Prob(Omnibus):                  0.012   Jarque-Bera (JB):                9.291\n",
       "Skew:                           0.350   Prob(JB):                      0.00961\n",
       "Kurtosis:                       3.523   Cond. No.                     1.84e+03\n",
       "==============================================================================\n",
       "\n",
       "Warnings:\n",
       "[1] Standard Errors assume that the covariance matrix of the errors is correctly specified.\n",
       "[2] The condition number is large, 1.84e+03. This might indicate that there are\n",
       "strong multicollinearity or other numerical problems.\n",
       "\"\"\""
      ]
     },
     "execution_count": 82,
     "metadata": {},
     "output_type": "execute_result"
    }
   ],
   "source": [
    "#experimenting with tuning\n",
    "#2nd model - dropping highest p-values: num_reviews - adjusted R^2 improved\n",
    "lm3 = smf.ols('rating ~  attraction_score + num_QA + num_Tips + num_rooms + walk_perfect + min_price + max_price + avg_price', data=df)\n",
    "\n",
    "# Fit the model\n",
    "fit3 = lm3.fit()\n",
    "\n",
    "# Print summary statistics of the model's performance\n",
    "fit3.summary()"
   ]
  },
  {
   "cell_type": "markdown",
   "metadata": {},
   "source": [
    "### Residual plot"
   ]
  },
  {
   "cell_type": "code",
   "execution_count": 42,
   "metadata": {
    "scrolled": true
   },
   "outputs": [
    {
     "data": {
      "image/png": "[encoded data removed]",
      "text/plain": [
       "<Figure size 720x432 with 1 Axes>"
      ]
     },
     "metadata": {
      "needs_background": "light"
     },
     "output_type": "display_data"
    }
   ],
   "source": [
    "plt.figure(figsize=(10,6))\n",
    "plt.scatter(fit2.predict(), fit2.resid);"
   ]
  },
  {
   "cell_type": "markdown",
   "metadata": {},
   "source": [
    "## train/test/split"
   ]
  },
  {
   "cell_type": "code",
   "execution_count": 54,
   "metadata": {},
   "outputs": [],
   "source": [
    "#first split 20%\n",
    "X_train_val, X_test, y_train_val, y_test = \\\n",
    "train_test_split(X,y,test_size=0.2, random_state = 42)"
   ]
  },
  {
   "cell_type": "code",
   "execution_count": 55,
   "metadata": {},
   "outputs": [],
   "source": [
    "#second split\n",
    "X_train, X_val, y_train, y_val = train_test_split(X, y, test_size=.25, random_state=3)"
   ]
  },
  {
   "cell_type": "code",
   "execution_count": 56,
   "metadata": {},
   "outputs": [],
   "source": [
    "kf = KFold(n_splits=5, shuffle=True, random_state = 71)"
   ]
  },
  {
   "cell_type": "markdown",
   "metadata": {},
   "source": [
    "## Modeling"
   ]
  },
  {
   "cell_type": "code",
   "execution_count": 57,
   "metadata": {},
   "outputs": [],
   "source": [
    "#Function for RMSE\n",
    "def RMSE(actuals, preds): \n",
    "    return np.sqrt(np.mean((actuals - preds)**2))"
   ]
  },
  {
   "cell_type": "markdown",
   "metadata": {},
   "source": [
    "### basic linear regression"
   ]
  },
  {
   "cell_type": "code",
   "execution_count": 58,
   "metadata": {},
   "outputs": [],
   "source": [
    "lr1 = LinearRegression()\n",
    "lr1.fit(X_train, y_train);"
   ]
  },
  {
   "cell_type": "code",
   "execution_count": 59,
   "metadata": {},
   "outputs": [
    {
     "name": "stdout",
     "output_type": "stream",
     "text": [
      "Basic Linear Regression RMSE: 2.900\n",
      "Basic Linear Regression r^2: 0.136\n"
     ]
    }
   ],
   "source": [
    "print(\"Basic Linear Regression RMSE: %.3f\" %(RMSE(y_val, lr1.predict(X_val))))\n",
    "print(\"Basic Linear Regression r^2: %.3f\" %(lr1.score(X_val, y_val)))"
   ]
  },
  {
   "cell_type": "code",
   "execution_count": 49,
   "metadata": {},
   "outputs": [
    {
     "data": {
      "image/png": "[encoded data removed]",
      "text/plain": [
       "<Figure size 432x288 with 1 Axes>"
      ]
     },
     "metadata": {
      "needs_background": "light"
     },
     "output_type": "display_data"
    }
   ],
   "source": [
    "plt.scatter(lr1.predict(X_val), y_val, alpha=.1)\n",
    "plt.plot(np.linspace(0,12,0.1),np.linspace(0,12,0.1))\n",
    "plt.xlabel(\"validation predictions\")\n",
    "plt.ylabel(\"validation true values\");"
   ]
  },
  {
   "cell_type": "code",
   "execution_count": 62,
   "metadata": {},
   "outputs": [
    {
     "name": "stdout",
     "output_type": "stream",
     "text": [
      "Basic Linear Regression mean cv r^2: 0.153 +- 0.131\n"
     ]
    }
   ],
   "source": [
    "#cross validation\n",
    "X_cv, y_cv = np.array(X), np.array(y)\n",
    "\n",
    "cv_lm_r2s = []\n",
    "cv_lm_rmse = []\n",
    "\n",
    "for train_ind, val_ind in kf.split(X_cv, y_cv):\n",
    "    \n",
    "    X_cv_train, y_cv_train = X_cv[train_ind], y_cv[train_ind]\n",
    "    X_val, y_val = X_cv[val_ind], y_cv[val_ind] \n",
    "    \n",
    "    lr1.fit(X_cv_train, y_cv_train)\n",
    "    \n",
    "    cv_lm_r2s.append(lr1.score(X_val, y_val))\n",
    "    cv_lm_rmse.append(RMSE(y_val, lr1.predict(X_val)))\n",
    "\n",
    "#Check RMSE and r^2 for cross-validation.   \n",
    "print('Basic Linear Regression mean cv r^2: %.3f +- %.3f' %(np.mean(cv_lm_r2s),np.std(cv_lm_r2s)))\n",
    "#print('Basic Linear Regression mean cv RMSE: %.3f +- %.3f' %(np.mean(cv_lm_rmse),np.std(cv_lm_rmse)))"
   ]
  },
  {
   "cell_type": "code",
   "execution_count": 63,
   "metadata": {},
   "outputs": [
    {
     "data": {
      "text/plain": [
       "0.37562978421255844"
      ]
     },
     "execution_count": 63,
     "metadata": {},
     "output_type": "execute_result"
    }
   ],
   "source": [
    "#r^2 on test set\n",
    "lr1.score(X_test, y_test)"
   ]
  },
  {
   "cell_type": "markdown",
   "metadata": {},
   "source": [
    "### LASSO regularization"
   ]
  },
  {
   "cell_type": "code",
   "execution_count": 68,
   "metadata": {},
   "outputs": [
    {
     "name": "stderr",
     "output_type": "stream",
     "text": [
      "//anaconda3/envs/metis/lib/python3.7/site-packages/sklearn/linear_model/_coordinate_descent.py:1088: DataConversionWarning: A column-vector y was passed when a 1d array was expected. Please change the shape of y to (n_samples, ), for example using ravel().\n",
      "  y = column_or_1d(y, warn=True)\n",
      "//anaconda3/envs/metis/lib/python3.7/site-packages/sklearn/linear_model/_coordinate_descent.py:472: ConvergenceWarning: Objective did not converge. You might want to increase the number of iterations. Duality gap: 23.95806007737474, tolerance: 0.18104541150219486\n",
      "  tol, rng, random, positive)\n",
      "//anaconda3/envs/metis/lib/python3.7/site-packages/sklearn/linear_model/_coordinate_descent.py:472: ConvergenceWarning: Objective did not converge. You might want to increase the number of iterations. Duality gap: 232.744294535665, tolerance: 0.18104541150219486\n",
      "  tol, rng, random, positive)\n",
      "//anaconda3/envs/metis/lib/python3.7/site-packages/sklearn/linear_model/_coordinate_descent.py:472: ConvergenceWarning: Objective did not converge. You might want to increase the number of iterations. Duality gap: 311.644535049908, tolerance: 0.18104541150219486\n",
      "  tol, rng, random, positive)\n",
      "//anaconda3/envs/metis/lib/python3.7/site-packages/sklearn/linear_model/_coordinate_descent.py:472: ConvergenceWarning: Objective did not converge. You might want to increase the number of iterations. Duality gap: 17.535857128723706, tolerance: 0.16919893225794733\n",
      "  tol, rng, random, positive)\n",
      "//anaconda3/envs/metis/lib/python3.7/site-packages/sklearn/linear_model/_coordinate_descent.py:472: ConvergenceWarning: Objective did not converge. You might want to increase the number of iterations. Duality gap: 59.78260443087754, tolerance: 0.16919893225794733\n",
      "  tol, rng, random, positive)\n",
      "//anaconda3/envs/metis/lib/python3.7/site-packages/sklearn/linear_model/_coordinate_descent.py:472: ConvergenceWarning: Objective did not converge. You might want to increase the number of iterations. Duality gap: 68.61884294039282, tolerance: 0.16919893225794733\n",
      "  tol, rng, random, positive)\n",
      "//anaconda3/envs/metis/lib/python3.7/site-packages/sklearn/linear_model/_coordinate_descent.py:472: ConvergenceWarning: Objective did not converge. You might want to increase the number of iterations. Duality gap: 18.682879721014615, tolerance: 0.17310026956334004\n",
      "  tol, rng, random, positive)\n",
      "//anaconda3/envs/metis/lib/python3.7/site-packages/sklearn/linear_model/_coordinate_descent.py:472: ConvergenceWarning: Objective did not converge. You might want to increase the number of iterations. Duality gap: 96.1730467728944, tolerance: 0.17310026956334004\n",
      "  tol, rng, random, positive)\n",
      "//anaconda3/envs/metis/lib/python3.7/site-packages/sklearn/linear_model/_coordinate_descent.py:472: ConvergenceWarning: Objective did not converge. You might want to increase the number of iterations. Duality gap: 116.61228215770143, tolerance: 0.17310026956334004\n",
      "  tol, rng, random, positive)\n",
      "//anaconda3/envs/metis/lib/python3.7/site-packages/sklearn/linear_model/_coordinate_descent.py:472: ConvergenceWarning: Objective did not converge. You might want to increase the number of iterations. Duality gap: 10.443283147919601, tolerance: 0.18240019054433704\n",
      "  tol, rng, random, positive)\n",
      "//anaconda3/envs/metis/lib/python3.7/site-packages/sklearn/linear_model/_coordinate_descent.py:472: ConvergenceWarning: Objective did not converge. You might want to increase the number of iterations. Duality gap: 112.78813490884215, tolerance: 0.18240019054433704\n",
      "  tol, rng, random, positive)\n",
      "//anaconda3/envs/metis/lib/python3.7/site-packages/sklearn/linear_model/_coordinate_descent.py:472: ConvergenceWarning: Objective did not converge. You might want to increase the number of iterations. Duality gap: 143.26305162051733, tolerance: 0.18240019054433704\n",
      "  tol, rng, random, positive)\n",
      "//anaconda3/envs/metis/lib/python3.7/site-packages/sklearn/linear_model/_coordinate_descent.py:472: ConvergenceWarning: Objective did not converge. You might want to increase the number of iterations. Duality gap: 33.96013537147576, tolerance: 0.17948609098940901\n",
      "  tol, rng, random, positive)\n",
      "//anaconda3/envs/metis/lib/python3.7/site-packages/sklearn/linear_model/_coordinate_descent.py:472: ConvergenceWarning: Objective did not converge. You might want to increase the number of iterations. Duality gap: 128.1067533643444, tolerance: 0.17948609098940901\n",
      "  tol, rng, random, positive)\n",
      "//anaconda3/envs/metis/lib/python3.7/site-packages/sklearn/linear_model/_coordinate_descent.py:472: ConvergenceWarning: Objective did not converge. You might want to increase the number of iterations. Duality gap: 155.595254901595, tolerance: 0.17948609098940901\n",
      "  tol, rng, random, positive)\n"
     ]
    },
    {
     "data": {
      "text/plain": [
       "LassoCV(alphas=array([1.00000000e-05, 1.29154967e-04, 1.66810054e-03, 2.15443469e-02,\n",
       "       2.78255940e-01, 3.59381366e+00, 4.64158883e+01, 5.99484250e+02,\n",
       "       7.74263683e+03, 1.00000000e+05]),\n",
       "        copy_X=True, cv=5, eps=0.001, fit_intercept=True, max_iter=1000,\n",
       "        n_alphas=100, n_jobs=None, normalize=False, positive=False,\n",
       "        precompute='auto', random_state=None, selection='cyclic', tol=0.0001,\n",
       "        verbose=False)"
      ]
     },
     "execution_count": 68,
     "metadata": {},
     "output_type": "execute_result"
    }
   ],
   "source": [
    "#Define alphavec for LASSO and Ridge CV\n",
    "alphavec = 10**np.linspace(-5,5,10)\n",
    "#Scale the training set\n",
    "std = StandardScaler()\n",
    "std.fit(X_train);\n",
    "#Transform the training data for LASSO regularization\n",
    "X_lasso_train = std.transform(X_train)\n",
    "X_lasso_val = std.transform(X_val)\n",
    "#Initialize the model and perform cross-validation using in-built methods.\n",
    "lr_model_2 = LassoCV(alphas = alphavec, cv=5)\n",
    "lr_model_2.fit(X_lasso_train, y_train)"
   ]
  },
  {
   "cell_type": "code",
   "execution_count": 69,
   "metadata": {},
   "outputs": [
    {
     "name": "stdout",
     "output_type": "stream",
     "text": [
      "LASSO mean cv r^2: 0.196\n",
      "LASSO mean cv RMSE: 3.084\n"
     ]
    }
   ],
   "source": [
    "#single validation set\n",
    "val_set_pred_2 = lr_model_2.predict(X_lasso_val)\n",
    "print('LASSO mean cv r^2: %.3f' %lr_model_2.score(X_lasso_val, y_val))\n",
    "print('LASSO mean cv RMSE: %.3f' %np.sqrt(np.mean((val_set_pred_2 - y_val)**2)))"
   ]
  },
  {
   "cell_type": "code",
   "execution_count": 70,
   "metadata": {},
   "outputs": [
    {
     "data": {
      "text/plain": [
       "0.2964451080609196"
      ]
     },
     "execution_count": 70,
     "metadata": {},
     "output_type": "execute_result"
    }
   ],
   "source": [
    "#R^2 on test set\n",
    "lr_model_2.score(std.transform(X_test), y_test)"
   ]
  },
  {
   "cell_type": "markdown",
   "metadata": {},
   "source": [
    "### Ridge Regression"
   ]
  },
  {
   "cell_type": "code",
   "execution_count": 71,
   "metadata": {},
   "outputs": [],
   "source": [
    "#Scale the data\n",
    "scaler = StandardScaler()\n",
    "\n",
    "X_train_scaled = scaler.fit_transform(X_train)\n",
    "X_val_scaled = scaler.transform(X_val)"
   ]
  },
  {
   "cell_type": "code",
   "execution_count": 72,
   "metadata": {},
   "outputs": [
    {
     "data": {
      "text/plain": [
       "RidgeCV(alphas=array([1.00000000e-05, 1.29154967e-04, 1.66810054e-03, 2.15443469e-02,\n",
       "       2.78255940e-01, 3.59381366e+00, 4.64158883e+01, 5.99484250e+02,\n",
       "       7.74263683e+03, 1.00000000e+05]),\n",
       "        cv=5, fit_intercept=True, gcv_mode=None, normalize=False, scoring=None,\n",
       "        store_cv_values=False)"
      ]
     },
     "execution_count": 72,
     "metadata": {},
     "output_type": "execute_result"
    }
   ],
   "source": [
    "#Initialize the model and perform built-in cross-validation.\n",
    "lr_model_3 = RidgeCV(alphas = alphavec, cv=5)\n",
    "lr_model_3.fit(X_train_scaled,y_train)"
   ]
  },
  {
   "cell_type": "code",
   "execution_count": 73,
   "metadata": {},
   "outputs": [],
   "source": [
    "#Single validation set\n",
    "val_set_pred_3 = lr_model_3.predict(X_val_scaled)"
   ]
  },
  {
   "cell_type": "code",
   "execution_count": 74,
   "metadata": {},
   "outputs": [
    {
     "name": "stdout",
     "output_type": "stream",
     "text": [
      "Ridge mean cv r^2: 0.192\n",
      "Ridge mean cv RMSE: 2.468\n"
     ]
    }
   ],
   "source": [
    "#R^2 and RMSE on one val set\n",
    "print('Ridge mean cv r^2: %.3f' %lr_model_3.score(X_val_scaled, y_val))\n",
    "print('Ridge mean cv RMSE: %.3f' %np.sqrt(np.mean((val_set_pred_3 - y_val)**2)))"
   ]
  },
  {
   "cell_type": "code",
   "execution_count": 76,
   "metadata": {},
   "outputs": [
    {
     "data": {
      "text/plain": [
       "0.3576919980249248"
      ]
     },
     "execution_count": 76,
     "metadata": {},
     "output_type": "execute_result"
    }
   ],
   "source": [
    "#model on test set\n",
    "lr_model_3.score(std.transform(X_test), y_test)"
   ]
  },
  {
   "cell_type": "markdown",
   "metadata": {},
   "source": [
    "## Polynomials"
   ]
  },
  {
   "cell_type": "code",
   "execution_count": 77,
   "metadata": {},
   "outputs": [
    {
     "name": "stdout",
     "output_type": "stream",
     "text": [
      "Polynomial mean on CV r^2: -0.372 +- 0.820\n",
      "Polynomial mean on CV RMSE: 3.467 +- 0.681\n"
     ]
    }
   ],
   "source": [
    "#I will perform 5-fold cross-validation by using a loop, so I am going to create lists for r^2 and rmse, \n",
    "#and then calculate RMSE on the means of both lists.\n",
    "cv_poly_r2s = []\n",
    "cv_poly_rmse = []\n",
    "\n",
    "for train_ind, val_ind in kf.split(X_cv,y_cv):\n",
    "    \n",
    "    X_train, y_train = X_cv[train_ind], y_cv[train_ind]\n",
    "    X_val, y_val = X_cv[val_ind], y_cv[val_ind] \n",
    "    \n",
    "    #polynomial degree 2\n",
    "    poly = PolynomialFeatures(degree=2) \n",
    "\n",
    "    X_train_poly = poly.fit_transform(X_train)\n",
    "    X_val_poly = poly.transform(X_val)\n",
    "\n",
    "    lm_poly = LinearRegression()\n",
    "    lm_poly.fit(X_train_poly, y_train)\n",
    "    \n",
    "    cv_poly_r2s.append(lm_poly.score(X_val_poly, y_val))\n",
    "    cv_poly_rmse.append(RMSE(y_val, lm_poly.predict(X_val_poly)))\n",
    "\n",
    "#Check r^2 and RMSE    \n",
    "print('Polynomial mean on CV r^2: %.3f +- %.3f' %(np.mean(cv_poly_r2s),np.std(cv_poly_r2s)))\n",
    "print('Polynomial mean on CV RMSE: %.3f +- %.3f' %(np.mean(cv_poly_rmse),np.std(cv_poly_rmse)))"
   ]
  },
  {
   "cell_type": "code",
   "execution_count": 78,
   "metadata": {},
   "outputs": [
    {
     "data": {
      "text/plain": [
       "-0.6210642440197554"
      ]
     },
     "execution_count": 78,
     "metadata": {},
     "output_type": "execute_result"
    }
   ],
   "source": [
    "#Check r^2 on the test data.\n",
    "lm_poly.score(poly.transform(X_test), y_test)"
   ]
  }
 ],
 "metadata": {
  "kernelspec": {
   "display_name": "Python 3",
   "language": "python",
   "name": "python3"
  },
  "language_info": {
   "codemirror_mode": {
    "name": "ipython",
    "version": 3
   },
   "file_extension": ".py",
   "mimetype": "text/x-python",
   "name": "python",
   "nbconvert_exporter": "python",
   "pygments_lexer": "ipython3",
   "version": "3.7.4"
  }
 },
 "nbformat": 4,
 "nbformat_minor": 4
}
