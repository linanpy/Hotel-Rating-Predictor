{
 "cells": [
  {
   "cell_type": "code",
   "execution_count": 1,
   "metadata": {},
   "outputs": [],
   "source": [
    "import pandas as pd\n",
    "import numpy as np\n",
    "\n",
    "import statsmodels.api as sm\n",
    "import statsmodels.formula.api as smf\n",
    "import patsy\n",
    "import scipy.stats as stats\n",
    "\n",
    "import seaborn as sns\n",
    "import matplotlib.pyplot as plt\n",
    "\n",
    "from sklearn.model_selection import train_test_split\n",
    "from sklearn import preprocessing\n",
    "from sklearn.linear_model import LinearRegression, Ridge, RidgeCV\n",
    "from sklearn.preprocessing import StandardScaler, PolynomialFeatures, scale\n",
    "from sklearn.metrics import mean_squared_error\n",
    "%matplotlib inline"
   ]
  },
  {
   "cell_type": "code",
   "execution_count": 24,
   "metadata": {},
   "outputs": [],
   "source": [
    "#Unpickle file for modeling\n",
    "df = pd.read_pickle(\"./modeling_df.pkl\")"
   ]
  },
  {
   "cell_type": "code",
   "execution_count": 21,
   "metadata": {
    "scrolled": true
   },
   "outputs": [
    {
     "data": {
      "text/html": [
       "<div>\n",
       "<style scoped>\n",
       "    .dataframe tbody tr th:only-of-type {\n",
       "        vertical-align: middle;\n",
       "    }\n",
       "\n",
       "    .dataframe tbody tr th {\n",
       "        vertical-align: top;\n",
       "    }\n",
       "\n",
       "    .dataframe thead th {\n",
       "        text-align: right;\n",
       "    }\n",
       "</style>\n",
       "<table border=\"1\" class=\"dataframe\">\n",
       "  <thead>\n",
       "    <tr style=\"text-align: right;\">\n",
       "      <th></th>\n",
       "      <th>hotel_name</th>\n",
       "      <th>rating</th>\n",
       "      <th>walk_score</th>\n",
       "      <th>res_score</th>\n",
       "      <th>attraction_score</th>\n",
       "      <th>num_reviews</th>\n",
       "      <th>num_QA</th>\n",
       "      <th>num_Tips</th>\n",
       "      <th>num_rooms</th>\n",
       "      <th>min_price</th>\n",
       "      <th>max_price</th>\n",
       "      <th>avg_price</th>\n",
       "      <th>walk_perfect</th>\n",
       "    </tr>\n",
       "  </thead>\n",
       "  <tbody>\n",
       "    <tr>\n",
       "      <th>19</th>\n",
       "      <td>30 Bencoolen</td>\n",
       "      <td>4.5</td>\n",
       "      <td>100</td>\n",
       "      <td>352</td>\n",
       "      <td>58</td>\n",
       "      <td>545</td>\n",
       "      <td>53</td>\n",
       "      <td>53</td>\n",
       "      <td>131</td>\n",
       "      <td>186.0</td>\n",
       "      <td>379.0</td>\n",
       "      <td>282.5</td>\n",
       "      <td>1</td>\n",
       "    </tr>\n",
       "    <tr>\n",
       "      <th>6</th>\n",
       "      <td>5footway.inn Project Ann Siang</td>\n",
       "      <td>3.5</td>\n",
       "      <td>100</td>\n",
       "      <td>941</td>\n",
       "      <td>129</td>\n",
       "      <td>235</td>\n",
       "      <td>15</td>\n",
       "      <td>15</td>\n",
       "      <td>26</td>\n",
       "      <td>31.0</td>\n",
       "      <td>158.0</td>\n",
       "      <td>94.5</td>\n",
       "      <td>1</td>\n",
       "    </tr>\n",
       "    <tr>\n",
       "      <th>44</th>\n",
       "      <td>7 Wonders Hostel</td>\n",
       "      <td>3.5</td>\n",
       "      <td>97</td>\n",
       "      <td>302</td>\n",
       "      <td>18</td>\n",
       "      <td>133</td>\n",
       "      <td>9</td>\n",
       "      <td>9</td>\n",
       "      <td>9</td>\n",
       "      <td>30.0</td>\n",
       "      <td>302.0</td>\n",
       "      <td>166.0</td>\n",
       "      <td>0</td>\n",
       "    </tr>\n",
       "    <tr>\n",
       "      <th>54</th>\n",
       "      <td>7 Wonders Hostel At Upper Dickson</td>\n",
       "      <td>4.5</td>\n",
       "      <td>100</td>\n",
       "      <td>248</td>\n",
       "      <td>44</td>\n",
       "      <td>4</td>\n",
       "      <td>1</td>\n",
       "      <td>1</td>\n",
       "      <td>75</td>\n",
       "      <td>23.0</td>\n",
       "      <td>212.0</td>\n",
       "      <td>117.5</td>\n",
       "      <td>1</td>\n",
       "    </tr>\n",
       "    <tr>\n",
       "      <th>13</th>\n",
       "      <td>@ Little Red Dot</td>\n",
       "      <td>4.0</td>\n",
       "      <td>90</td>\n",
       "      <td>135</td>\n",
       "      <td>12</td>\n",
       "      <td>458</td>\n",
       "      <td>5</td>\n",
       "      <td>5</td>\n",
       "      <td>18</td>\n",
       "      <td>18.0</td>\n",
       "      <td>61.0</td>\n",
       "      <td>39.5</td>\n",
       "      <td>0</td>\n",
       "    </tr>\n",
       "  </tbody>\n",
       "</table>\n",
       "</div>"
      ],
      "text/plain": [
       "                           hotel_name  rating  walk_score  res_score  \\\n",
       "19                       30 Bencoolen     4.5         100        352   \n",
       "6      5footway.inn Project Ann Siang     3.5         100        941   \n",
       "44                   7 Wonders Hostel     3.5          97        302   \n",
       "54  7 Wonders Hostel At Upper Dickson     4.5         100        248   \n",
       "13                   @ Little Red Dot     4.0          90        135   \n",
       "\n",
       "    attraction_score  num_reviews  num_QA  num_Tips  num_rooms  min_price  \\\n",
       "19                58          545      53        53        131      186.0   \n",
       "6                129          235      15        15         26       31.0   \n",
       "44                18          133       9         9          9       30.0   \n",
       "54                44            4       1         1         75       23.0   \n",
       "13                12          458       5         5         18       18.0   \n",
       "\n",
       "    max_price  avg_price  walk_perfect  \n",
       "19      379.0      282.5             1  \n",
       "6       158.0       94.5             1  \n",
       "44      302.0      166.0             0  \n",
       "54      212.0      117.5             1  \n",
       "13       61.0       39.5             0  "
      ]
     },
     "execution_count": 21,
     "metadata": {},
     "output_type": "execute_result"
    }
   ],
   "source": [
    "df.head()"
   ]
  },
  {
   "cell_type": "code",
   "execution_count": 32,
   "metadata": {
    "collapsed": true
   },
   "outputs": [
    {
     "name": "stdout",
     "output_type": "stream",
     "text": [
      "<class 'pandas.core.frame.DataFrame'>\n",
      "Int64Index: 292 entries, 19 to 39\n",
      "Data columns (total 13 columns):\n",
      "hotel_name          292 non-null object\n",
      "rating              292 non-null float64\n",
      "walk_score          292 non-null int64\n",
      "res_score           292 non-null int64\n",
      "attraction_score    292 non-null int64\n",
      "num_reviews         292 non-null int64\n",
      "num_QA              292 non-null int64\n",
      "num_Tips            292 non-null int64\n",
      "num_rooms           292 non-null int64\n",
      "min_price           292 non-null float64\n",
      "max_price           292 non-null float64\n",
      "avg_price           292 non-null float64\n",
      "walk_perfect        292 non-null uint8\n",
      "dtypes: float64(4), int64(7), object(1), uint8(1)\n",
      "memory usage: 29.9+ KB\n"
     ]
    }
   ],
   "source": [
    "df.info()"
   ]
  },
  {
   "cell_type": "markdown",
   "metadata": {},
   "source": [
    "## diagnostic plots"
   ]
  },
  {
   "cell_type": "code",
   "execution_count": 25,
   "metadata": {},
   "outputs": [],
   "source": [
    "data = df[['res_score', 'attraction_score','num_reviews','num_QA','num_Tips','max_price','num_rooms','num_reviews', 'walk_perfect', 'min_price','max_price','avg_price']] #'walk_score', 'res_score', 'attraction_score','num_reviews', 'num_QA', 'num_Tips', 'num_rooms', 'min_price','max_price', 'avg_price\n",
    "\n",
    "target = df['rating'] \n",
    "\n",
    "X, y = data, target"
   ]
  },
  {
   "cell_type": "code",
   "execution_count": 16,
   "metadata": {},
   "outputs": [
    {
     "data": {
      "image/png": "[encoded data removed]",
      "text/plain": [
       "<Figure size 1080x360 with 3 Axes>"
      ]
     },
     "metadata": {
      "needs_background": "light"
     },
     "output_type": "display_data"
    }
   ],
   "source": [
    "#Diagnostic plots\n",
    "plt.figure(figsize=(15,5))\n",
    "\n",
    "\n",
    "\n",
    "rgr = LinearRegression()\n",
    "rgr.fit(X, y)\n",
    "pred = rgr.predict(X)\n",
    "\n",
    "plt.subplot(1, 3, 1)\n",
    "plt.scatter(pred, y, alpha = 0.1)\n",
    "plt.title(\"Regular regression fit\")\n",
    "plt.xlabel(\"pred\")\n",
    "plt.ylabel(\"y\")\n",
    "\n",
    "plt.subplot(1, 3, 2)\n",
    "res = (y - pred)\n",
    "plt.scatter(pred, res, alpha = 0.1)\n",
    "plt.title(\"Regression residual plot\")\n",
    "plt.xlabel(\"prediction\")\n",
    "plt.ylabel(\"residuals\")\n",
    "\n",
    "plt.subplot(1, 3, 3)\n",
    "pred = rgr.predict(X)\n",
    "stats.probplot(res, dist=\"norm\", plot=plt)\n",
    "plt.title(\"Regular regression Q-Q plot\");"
   ]
  },
  {
   "cell_type": "code",
   "execution_count": 26,
   "metadata": {},
   "outputs": [],
   "source": [
    "#diagnostic plots don't look like a good fit. use box-cox transformation to make data more linear. \n",
    "#walk_perfect not transformed since it's dummy\n",
    "transform = np.asarray(df[['max_price']].values)\n",
    "max_price_t = stats.boxcox(transform)[0]\n",
    "transform = np.asarray(df[['res_score']].values)\n",
    "res_score_t = stats.boxcox(transform)[0]\n",
    "transform = np.asarray(df[['attraction_score']].values)\n",
    "attraction_score_t = stats.boxcox(transform)[0]\n",
    "transform = np.asarray(df[['num_reviews']].values)\n",
    "num_reviews_t = stats.boxcox(transform)[0]\n",
    "transform = np.asarray(df[['num_rooms']].values)\n",
    "num_rooms_t = stats.boxcox(transform)[0]\n",
    "transform = np.asarray(df[['num_QA']].values)\n",
    "num_QA_t = stats.boxcox(transform)[0]\n",
    "transform = np.asarray(df[['num_Tips']].values)\n",
    "num_Tips_t = stats.boxcox(transform)[0]\n",
    "transform = np.asarray(df[['min_price']].values)\n",
    "min_price_t = stats.boxcox(transform)[0]\n",
    "transform = np.asarray(df[['avg_price']].values)\n",
    "avg_price_t = stats.boxcox(transform)[0]"
   ]
  },
  {
   "cell_type": "code",
   "execution_count": 27,
   "metadata": {},
   "outputs": [],
   "source": [
    "df['max_price'] = max_price_t\n",
    "df['res_score'] = res_score_t\n",
    "df['attraction_score'] = attraction_score_t\n",
    "df['num_reviews'] = num_reviews_t\n",
    "df['num_rooms'] = num_rooms_t\n",
    "df['num_QA'] = num_QA_t\n",
    "df['num_Tips'] = num_Tips_t\n",
    "df['min_price'] = min_price_t\n",
    "df['avg_price'] = avg_price_t"
   ]
  },
  {
   "cell_type": "code",
   "execution_count": 28,
   "metadata": {},
   "outputs": [],
   "source": [
    "#also transforming the rating variable\n",
    "transform = np.asarray(df[['rating']].values)\n",
    "rating_t = stats.boxcox(transform)[0]\n",
    "df['rating'] = rating_t"
   ]
  },
  {
   "cell_type": "code",
   "execution_count": 59,
   "metadata": {},
   "outputs": [
    {
     "data": {
      "image/png": "[encoded data removed]",
      "text/plain": [
       "<Figure size 432x288 with 1 Axes>"
      ]
     },
     "metadata": {
      "needs_background": "light"
     },
     "output_type": "display_data"
    }
   ],
   "source": [
    "#rating after boxcox transformation - to move to EDA\n",
    "sns.distplot(df.rating, bins=20);"
   ]
  },
  {
   "cell_type": "code",
   "execution_count": 77,
   "metadata": {},
   "outputs": [
    {
     "data": {
      "image/png": "[encoded data removed]",
      "text/plain": [
       "<Figure size 1080x360 with 3 Axes>"
      ]
     },
     "metadata": {
      "needs_background": "light"
     },
     "output_type": "display_data"
    }
   ],
   "source": [
    "#Diagnostic plots 2nd try\n",
    "#after boxcox transformation\n",
    "data = df[['res_score', 'attraction_score','num_reviews','num_QA','num_Tips','max_price','num_rooms','num_reviews', 'walk_perfect', 'min_price','max_price','avg_price']] #'walk_score', 'res_score', 'attraction_score','num_reviews', 'num_QA', 'num_Tips', 'num_rooms', 'min_price','max_price', 'avg_price\n",
    "\n",
    "target = df['rating'] \n",
    "plt.figure(figsize=(15,5))\n",
    "\n",
    "X, y = data, target\n",
    "\n",
    "rgr = LinearRegression()\n",
    "rgr.fit(X, y)\n",
    "pred = rgr.predict(X)\n",
    "\n",
    "plt.subplot(1, 3, 1)\n",
    "plt.scatter(pred, y, alpha = 0.1)\n",
    "plt.title(\"Regular regression fit\")\n",
    "plt.xlabel(\"pred\")\n",
    "plt.ylabel(\"y\")\n",
    "\n",
    "plt.subplot(1, 3, 2)\n",
    "res = (y - pred)\n",
    "plt.scatter(pred, res, alpha = 0.1)\n",
    "plt.title(\"Regression residual plot\")\n",
    "plt.xlabel(\"prediction\")\n",
    "plt.ylabel(\"residuals\")\n",
    "\n",
    "plt.subplot(1, 3, 3)\n",
    "pred = rgr.predict(X)\n",
    "stats.probplot(res, dist=\"norm\", plot=plt)\n",
    "plt.title(\"Regular regression Q-Q plot\");"
   ]
  },
  {
   "cell_type": "markdown",
   "metadata": {},
   "source": [
    "#### QQ plot is a better fit but the other two suggest regression is perhaps not the best model. Will proceed for now"
   ]
  },
  {
   "cell_type": "markdown",
   "metadata": {},
   "source": [
    "### Baselining with OLS"
   ]
  },
  {
   "cell_type": "code",
   "execution_count": 29,
   "metadata": {},
   "outputs": [
    {
     "data": {
      "text/html": [
       "<table class=\"simpletable\">\n",
       "<caption>OLS Regression Results</caption>\n",
       "<tr>\n",
       "  <th>Dep. Variable:</th>         <td>rating</td>      <th>  R-squared:         </th> <td>   0.271</td>\n",
       "</tr>\n",
       "<tr>\n",
       "  <th>Model:</th>                   <td>OLS</td>       <th>  Adj. R-squared:    </th> <td>   0.248</td>\n",
       "</tr>\n",
       "<tr>\n",
       "  <th>Method:</th>             <td>Least Squares</td>  <th>  F-statistic:       </th> <td>   11.65</td>\n",
       "</tr>\n",
       "<tr>\n",
       "  <th>Date:</th>             <td>Mon, 08 Jun 2020</td> <th>  Prob (F-statistic):</th> <td>1.46e-15</td>\n",
       "</tr>\n",
       "<tr>\n",
       "  <th>Time:</th>                 <td>16:54:47</td>     <th>  Log-Likelihood:    </th> <td> -705.27</td>\n",
       "</tr>\n",
       "<tr>\n",
       "  <th>No. Observations:</th>      <td>   292</td>      <th>  AIC:               </th> <td>   1431.</td>\n",
       "</tr>\n",
       "<tr>\n",
       "  <th>Df Residuals:</th>          <td>   282</td>      <th>  BIC:               </th> <td>   1467.</td>\n",
       "</tr>\n",
       "<tr>\n",
       "  <th>Df Model:</th>              <td>     9</td>      <th>                     </th>     <td> </td>   \n",
       "</tr>\n",
       "<tr>\n",
       "  <th>Covariance Type:</th>      <td>nonrobust</td>    <th>                     </th>     <td> </td>   \n",
       "</tr>\n",
       "</table>\n",
       "<table class=\"simpletable\">\n",
       "<tr>\n",
       "          <td></td>            <th>coef</th>     <th>std err</th>      <th>t</th>      <th>P>|t|</th>  <th>[0.025</th>    <th>0.975]</th>  \n",
       "</tr>\n",
       "<tr>\n",
       "  <th>Intercept</th>        <td>  -20.5098</td> <td>    7.125</td> <td>   -2.878</td> <td> 0.004</td> <td>  -34.535</td> <td>   -6.484</td>\n",
       "</tr>\n",
       "<tr>\n",
       "  <th>res_score</th>        <td>    0.1334</td> <td>    0.123</td> <td>    1.084</td> <td> 0.279</td> <td>   -0.109</td> <td>    0.376</td>\n",
       "</tr>\n",
       "<tr>\n",
       "  <th>attraction_score</th> <td>    0.3095</td> <td>    0.193</td> <td>    1.603</td> <td> 0.110</td> <td>   -0.071</td> <td>    0.690</td>\n",
       "</tr>\n",
       "<tr>\n",
       "  <th>num_reviews</th>      <td>   -0.2057</td> <td>    0.110</td> <td>   -1.864</td> <td> 0.063</td> <td>   -0.423</td> <td>    0.011</td>\n",
       "</tr>\n",
       "<tr>\n",
       "  <th>num_QA</th>           <td>    0.4201</td> <td>    0.126</td> <td>    3.345</td> <td> 0.001</td> <td>    0.173</td> <td>    0.667</td>\n",
       "</tr>\n",
       "<tr>\n",
       "  <th>num_Tips</th>         <td>    0.4201</td> <td>    0.126</td> <td>    3.345</td> <td> 0.001</td> <td>    0.173</td> <td>    0.667</td>\n",
       "</tr>\n",
       "<tr>\n",
       "  <th>max_price</th>        <td>   39.2176</td> <td>   17.400</td> <td>    2.254</td> <td> 0.025</td> <td>    4.967</td> <td>   73.468</td>\n",
       "</tr>\n",
       "<tr>\n",
       "  <th>num_rooms</th>        <td>   -0.3671</td> <td>    0.119</td> <td>   -3.085</td> <td> 0.002</td> <td>   -0.601</td> <td>   -0.133</td>\n",
       "</tr>\n",
       "<tr>\n",
       "  <th>walk_perfect</th>     <td>   -1.2758</td> <td>    0.605</td> <td>   -2.109</td> <td> 0.036</td> <td>   -2.467</td> <td>   -0.085</td>\n",
       "</tr>\n",
       "<tr>\n",
       "  <th>min_price</th>        <td>    1.8994</td> <td>    0.655</td> <td>    2.900</td> <td> 0.004</td> <td>    0.610</td> <td>    3.189</td>\n",
       "</tr>\n",
       "<tr>\n",
       "  <th>avg_price</th>        <td>  -30.7706</td> <td>   15.472</td> <td>   -1.989</td> <td> 0.048</td> <td>  -61.225</td> <td>   -0.316</td>\n",
       "</tr>\n",
       "</table>\n",
       "<table class=\"simpletable\">\n",
       "<tr>\n",
       "  <th>Omnibus:</th>       <td> 6.398</td> <th>  Durbin-Watson:     </th> <td>   2.038</td>\n",
       "</tr>\n",
       "<tr>\n",
       "  <th>Prob(Omnibus):</th> <td> 0.041</td> <th>  Jarque-Bera (JB):  </th> <td>   6.356</td>\n",
       "</tr>\n",
       "<tr>\n",
       "  <th>Skew:</th>          <td> 0.290</td> <th>  Prob(JB):          </th> <td>  0.0417</td>\n",
       "</tr>\n",
       "<tr>\n",
       "  <th>Kurtosis:</th>      <td> 3.431</td> <th>  Cond. No.          </th> <td>9.19e+17</td>\n",
       "</tr>\n",
       "</table><br/><br/>Warnings:<br/>[1] Standard Errors assume that the covariance matrix of the errors is correctly specified.<br/>[2] The smallest eigenvalue is 1.02e-31. This might indicate that there are<br/>strong multicollinearity problems or that the design matrix is singular."
      ],
      "text/plain": [
       "<class 'statsmodels.iolib.summary.Summary'>\n",
       "\"\"\"\n",
       "                            OLS Regression Results                            \n",
       "==============================================================================\n",
       "Dep. Variable:                 rating   R-squared:                       0.271\n",
       "Model:                            OLS   Adj. R-squared:                  0.248\n",
       "Method:                 Least Squares   F-statistic:                     11.65\n",
       "Date:                Mon, 08 Jun 2020   Prob (F-statistic):           1.46e-15\n",
       "Time:                        16:54:47   Log-Likelihood:                -705.27\n",
       "No. Observations:                 292   AIC:                             1431.\n",
       "Df Residuals:                     282   BIC:                             1467.\n",
       "Df Model:                           9                                         \n",
       "Covariance Type:            nonrobust                                         \n",
       "====================================================================================\n",
       "                       coef    std err          t      P>|t|      [0.025      0.975]\n",
       "------------------------------------------------------------------------------------\n",
       "Intercept          -20.5098      7.125     -2.878      0.004     -34.535      -6.484\n",
       "res_score            0.1334      0.123      1.084      0.279      -0.109       0.376\n",
       "attraction_score     0.3095      0.193      1.603      0.110      -0.071       0.690\n",
       "num_reviews         -0.2057      0.110     -1.864      0.063      -0.423       0.011\n",
       "num_QA               0.4201      0.126      3.345      0.001       0.173       0.667\n",
       "num_Tips             0.4201      0.126      3.345      0.001       0.173       0.667\n",
       "max_price           39.2176     17.400      2.254      0.025       4.967      73.468\n",
       "num_rooms           -0.3671      0.119     -3.085      0.002      -0.601      -0.133\n",
       "walk_perfect        -1.2758      0.605     -2.109      0.036      -2.467      -0.085\n",
       "min_price            1.8994      0.655      2.900      0.004       0.610       3.189\n",
       "avg_price          -30.7706     15.472     -1.989      0.048     -61.225      -0.316\n",
       "==============================================================================\n",
       "Omnibus:                        6.398   Durbin-Watson:                   2.038\n",
       "Prob(Omnibus):                  0.041   Jarque-Bera (JB):                6.356\n",
       "Skew:                           0.290   Prob(JB):                       0.0417\n",
       "Kurtosis:                       3.431   Cond. No.                     9.19e+17\n",
       "==============================================================================\n",
       "\n",
       "Warnings:\n",
       "[1] Standard Errors assume that the covariance matrix of the errors is correctly specified.\n",
       "[2] The smallest eigenvalue is 1.02e-31. This might indicate that there are\n",
       "strong multicollinearity problems or that the design matrix is singular.\n",
       "\"\"\""
      ]
     },
     "execution_count": 29,
     "metadata": {},
     "output_type": "execute_result"
    }
   ],
   "source": [
    "#1st model R^2 0.271, Adj. R-squared: 0.248\n",
    "# Create your feature matrix (X) and target vector (y)\n",
    "y, X = patsy.dmatrices('rating ~ res_score + attraction_score + num_reviews + num_QA + num_Tips + max_price + num_rooms + num_reviews + walk_perfect + min_price + max_price + avg_price', data=df, return_type=\"dataframe\")\n",
    "\n",
    "# Create your model\n",
    "model = sm.OLS(y, X)\n",
    "\n",
    "# Fit your model to your training set\n",
    "fit = model.fit()\n",
    "\n",
    "# Print summary statistics of the model's performance\n",
    "fit.summary()\n",
    "# Create your model\n",
    "model = sm.OLS(y, X)\n",
    "\n",
    "# Fit your model to your training set\n",
    "fit = model.fit()\n",
    "\n",
    "# Print summary statistics of the model's performance\n",
    "fit.summary()"
   ]
  },
  {
   "cell_type": "code",
   "execution_count": 30,
   "metadata": {},
   "outputs": [
    {
     "data": {
      "text/html": [
       "<table class=\"simpletable\">\n",
       "<caption>OLS Regression Results</caption>\n",
       "<tr>\n",
       "  <th>Dep. Variable:</th>         <td>rating</td>      <th>  R-squared:         </th> <td>   0.260</td>\n",
       "</tr>\n",
       "<tr>\n",
       "  <th>Model:</th>                   <td>OLS</td>       <th>  Adj. R-squared:    </th> <td>   0.236</td>\n",
       "</tr>\n",
       "<tr>\n",
       "  <th>Method:</th>             <td>Least Squares</td>  <th>  F-statistic:       </th> <td>   10.99</td>\n",
       "</tr>\n",
       "<tr>\n",
       "  <th>Date:</th>             <td>Mon, 08 Jun 2020</td> <th>  Prob (F-statistic):</th> <td>1.13e-14</td>\n",
       "</tr>\n",
       "<tr>\n",
       "  <th>Time:</th>                 <td>16:54:50</td>     <th>  Log-Likelihood:    </th> <td> -707.55</td>\n",
       "</tr>\n",
       "<tr>\n",
       "  <th>No. Observations:</th>      <td>   292</td>      <th>  AIC:               </th> <td>   1435.</td>\n",
       "</tr>\n",
       "<tr>\n",
       "  <th>Df Residuals:</th>          <td>   282</td>      <th>  BIC:               </th> <td>   1472.</td>\n",
       "</tr>\n",
       "<tr>\n",
       "  <th>Df Model:</th>              <td>     9</td>      <th>                     </th>     <td> </td>   \n",
       "</tr>\n",
       "<tr>\n",
       "  <th>Covariance Type:</th>      <td>nonrobust</td>    <th>                     </th>     <td> </td>   \n",
       "</tr>\n",
       "</table>\n",
       "<table class=\"simpletable\">\n",
       "<tr>\n",
       "          <td></td>            <th>coef</th>     <th>std err</th>      <th>t</th>      <th>P>|t|</th>  <th>[0.025</th>    <th>0.975]</th>  \n",
       "</tr>\n",
       "<tr>\n",
       "  <th>Intercept</th>        <td>  -18.7593</td> <td>    7.170</td> <td>   -2.616</td> <td> 0.009</td> <td>  -32.873</td> <td>   -4.645</td>\n",
       "</tr>\n",
       "<tr>\n",
       "  <th>res_score</th>        <td>    0.0815</td> <td>    0.129</td> <td>    0.634</td> <td> 0.527</td> <td>   -0.172</td> <td>    0.334</td>\n",
       "</tr>\n",
       "<tr>\n",
       "  <th>attraction_score</th> <td>    0.1312</td> <td>    0.179</td> <td>    0.733</td> <td> 0.464</td> <td>   -0.221</td> <td>    0.483</td>\n",
       "</tr>\n",
       "<tr>\n",
       "  <th>walk_score</th>       <td>    0.0028</td> <td>    0.021</td> <td>    0.135</td> <td> 0.893</td> <td>   -0.038</td> <td>    0.043</td>\n",
       "</tr>\n",
       "<tr>\n",
       "  <th>num_reviews</th>      <td>   -0.2179</td> <td>    0.111</td> <td>   -1.962</td> <td> 0.051</td> <td>   -0.436</td> <td>    0.001</td>\n",
       "</tr>\n",
       "<tr>\n",
       "  <th>num_QA</th>           <td>    0.4407</td> <td>    0.127</td> <td>    3.471</td> <td> 0.001</td> <td>    0.191</td> <td>    0.691</td>\n",
       "</tr>\n",
       "<tr>\n",
       "  <th>num_Tips</th>         <td>    0.4407</td> <td>    0.127</td> <td>    3.471</td> <td> 0.001</td> <td>    0.191</td> <td>    0.691</td>\n",
       "</tr>\n",
       "<tr>\n",
       "  <th>max_price</th>        <td>   35.8389</td> <td>   17.506</td> <td>    2.047</td> <td> 0.042</td> <td>    1.379</td> <td>   70.299</td>\n",
       "</tr>\n",
       "<tr>\n",
       "  <th>num_rooms</th>        <td>   -0.3758</td> <td>    0.120</td> <td>   -3.131</td> <td> 0.002</td> <td>   -0.612</td> <td>   -0.139</td>\n",
       "</tr>\n",
       "<tr>\n",
       "  <th>min_price</th>        <td>    1.7495</td> <td>    0.656</td> <td>    2.665</td> <td> 0.008</td> <td>    0.457</td> <td>    3.041</td>\n",
       "</tr>\n",
       "<tr>\n",
       "  <th>avg_price</th>        <td>  -27.7211</td> <td>   15.561</td> <td>   -1.781</td> <td> 0.076</td> <td>  -58.352</td> <td>    2.909</td>\n",
       "</tr>\n",
       "</table>\n",
       "<table class=\"simpletable\">\n",
       "<tr>\n",
       "  <th>Omnibus:</th>       <td> 5.332</td> <th>  Durbin-Watson:     </th> <td>   2.027</td>\n",
       "</tr>\n",
       "<tr>\n",
       "  <th>Prob(Omnibus):</th> <td> 0.070</td> <th>  Jarque-Bera (JB):  </th> <td>   5.148</td>\n",
       "</tr>\n",
       "<tr>\n",
       "  <th>Skew:</th>          <td> 0.265</td> <th>  Prob(JB):          </th> <td>  0.0762</td>\n",
       "</tr>\n",
       "<tr>\n",
       "  <th>Kurtosis:</th>      <td> 3.378</td> <th>  Cond. No.          </th> <td>1.95e+17</td>\n",
       "</tr>\n",
       "</table><br/><br/>Warnings:<br/>[1] Standard Errors assume that the covariance matrix of the errors is correctly specified.<br/>[2] The smallest eigenvalue is 6.68e-29. This might indicate that there are<br/>strong multicollinearity problems or that the design matrix is singular."
      ],
      "text/plain": [
       "<class 'statsmodels.iolib.summary.Summary'>\n",
       "\"\"\"\n",
       "                            OLS Regression Results                            \n",
       "==============================================================================\n",
       "Dep. Variable:                 rating   R-squared:                       0.260\n",
       "Model:                            OLS   Adj. R-squared:                  0.236\n",
       "Method:                 Least Squares   F-statistic:                     10.99\n",
       "Date:                Mon, 08 Jun 2020   Prob (F-statistic):           1.13e-14\n",
       "Time:                        16:54:50   Log-Likelihood:                -707.55\n",
       "No. Observations:                 292   AIC:                             1435.\n",
       "Df Residuals:                     282   BIC:                             1472.\n",
       "Df Model:                           9                                         \n",
       "Covariance Type:            nonrobust                                         \n",
       "====================================================================================\n",
       "                       coef    std err          t      P>|t|      [0.025      0.975]\n",
       "------------------------------------------------------------------------------------\n",
       "Intercept          -18.7593      7.170     -2.616      0.009     -32.873      -4.645\n",
       "res_score            0.0815      0.129      0.634      0.527      -0.172       0.334\n",
       "attraction_score     0.1312      0.179      0.733      0.464      -0.221       0.483\n",
       "walk_score           0.0028      0.021      0.135      0.893      -0.038       0.043\n",
       "num_reviews         -0.2179      0.111     -1.962      0.051      -0.436       0.001\n",
       "num_QA               0.4407      0.127      3.471      0.001       0.191       0.691\n",
       "num_Tips             0.4407      0.127      3.471      0.001       0.191       0.691\n",
       "max_price           35.8389     17.506      2.047      0.042       1.379      70.299\n",
       "num_rooms           -0.3758      0.120     -3.131      0.002      -0.612      -0.139\n",
       "min_price            1.7495      0.656      2.665      0.008       0.457       3.041\n",
       "avg_price          -27.7211     15.561     -1.781      0.076     -58.352       2.909\n",
       "==============================================================================\n",
       "Omnibus:                        5.332   Durbin-Watson:                   2.027\n",
       "Prob(Omnibus):                  0.070   Jarque-Bera (JB):                5.148\n",
       "Skew:                           0.265   Prob(JB):                       0.0762\n",
       "Kurtosis:                       3.378   Cond. No.                     1.95e+17\n",
       "==============================================================================\n",
       "\n",
       "Warnings:\n",
       "[1] Standard Errors assume that the covariance matrix of the errors is correctly specified.\n",
       "[2] The smallest eigenvalue is 6.68e-29. This might indicate that there are\n",
       "strong multicollinearity problems or that the design matrix is singular.\n",
       "\"\"\""
      ]
     },
     "execution_count": 30,
     "metadata": {},
     "output_type": "execute_result"
    }
   ],
   "source": [
    "#2nd model - dropping highest p-values res_score\n",
    "lm2 = smf.ols('rating ~ res_score + attraction_score + walk_score + num_reviews + num_QA+num_Tips + max_price + num_rooms + num_reviews + min_price + max_price + avg_price', data=df)\n",
    "\n",
    "# Fit the model\n",
    "fit2 = lm2.fit()\n",
    "\n",
    "# Print summary statistics of the model's performance\n",
    "fit2.summary()"
   ]
  },
  {
   "cell_type": "code",
   "execution_count": 7,
   "metadata": {},
   "outputs": [],
   "source": [
    "### both R^2 and adjusted R^2 dropped so first model is better"
   ]
  },
  {
   "cell_type": "markdown",
   "metadata": {},
   "source": [
    "### train/test/split"
   ]
  },
  {
   "cell_type": "code",
   "execution_count": 31,
   "metadata": {},
   "outputs": [],
   "source": [
    "#first split 20%\n",
    "X_train_val, X_test, y_train_val, y_test = \\\n",
    "train_test_split(X,y,test_size=0.2, random_state = 42)"
   ]
  },
  {
   "cell_type": "code",
   "execution_count": 32,
   "metadata": {},
   "outputs": [],
   "source": [
    "#second split\n",
    "X_train, X_val, y_train, y_val = train_test_split(X, y, test_size=.25, random_state=3)"
   ]
  },
  {
   "cell_type": "markdown",
   "metadata": {},
   "source": [
    "### modeling using sklearn"
   ]
  },
  {
   "cell_type": "code",
   "execution_count": 33,
   "metadata": {},
   "outputs": [
    {
     "data": {
      "text/plain": [
       "LinearRegression(copy_X=True, fit_intercept=True, n_jobs=None, normalize=False)"
      ]
     },
     "execution_count": 33,
     "metadata": {},
     "output_type": "execute_result"
    }
   ],
   "source": [
    "#modeling using sklearn\n",
    "lr_model_1 = LinearRegression()\n",
    "lr_model_1.fit(X_train, y_train)"
   ]
  },
  {
   "cell_type": "code",
   "execution_count": 34,
   "metadata": {},
   "outputs": [
    {
     "data": {
      "text/plain": [
       "array([[  0.        ,   0.1611942 ,   0.11235446,  -0.25008957,\n",
       "          0.45342215,   0.45342215,  34.37642229,  -0.30962154,\n",
       "         -0.41699443,   1.7324678 , -26.21485892]])"
      ]
     },
     "execution_count": 34,
     "metadata": {},
     "output_type": "execute_result"
    }
   ],
   "source": [
    "lr_model_1.coef_"
   ]
  },
  {
   "cell_type": "code",
   "execution_count": 35,
   "metadata": {},
   "outputs": [
    {
     "data": {
      "text/plain": [
       "0.12904038571958776"
      ]
     },
     "execution_count": 35,
     "metadata": {},
     "output_type": "execute_result"
    }
   ],
   "source": [
    "#R^2 on validation set\n",
    "lr_model_1.score(X_val, y_val)"
   ]
  },
  {
   "cell_type": "code",
   "execution_count": 14,
   "metadata": {},
   "outputs": [
    {
     "data": {
      "image/png": "[encoded data removed]",
      "text/plain": [
       "<Figure size 432x288 with 1 Axes>"
      ]
     },
     "metadata": {
      "needs_background": "light"
     },
     "output_type": "display_data"
    }
   ],
   "source": [
    "plt.scatter(lr_model_1.predict(X_val), y_val, alpha=.1)\n",
    "plt.plot(np.linspace(0,12,0.1),np.linspace(0,12,0.1))\n",
    "plt.xlabel(\"validation predictions\")\n",
    "plt.ylabel(\"validation true values\");"
   ]
  },
  {
   "cell_type": "code",
   "execution_count": 18,
   "metadata": {},
   "outputs": [
    {
     "name": "stdout",
     "output_type": "stream",
     "text": [
      "Basic Linear Regression mean cv r^2: 0.140 +- 0.103\n"
     ]
    }
   ],
   "source": [
    "#Perform cross-validation\n",
    "from sklearn.model_selection import KFold\n",
    "kf = KFold(n_splits=5, shuffle=True, random_state = 71)\n",
    "\n",
    "X_cv, y_cv = np.array(X), np.array(y)\n",
    "\n",
    "cv_lm_r2s = []\n",
    "#cv_lm_rmse = []\n",
    "\n",
    "for train_ind, val_ind in kf.split(X_cv, y_cv):\n",
    "    \n",
    "    X_cv_train, y_cv_train = X_cv[train_ind], y_cv[train_ind]\n",
    "    X_val, y_val = X_cv[val_ind], y_cv[val_ind] \n",
    "    \n",
    "    lr_model_1.fit(X_cv_train, y_cv_train)\n",
    "    \n",
    "    cv_lm_r2s.append(lr_model_1.score(X_val, y_val))\n",
    "    #cv_lm_rmse.append(RMSE(y_val, lr_model_1.predict(X_val)))\n",
    "\n",
    "#Check RMSE and r^2 for cross-validation.   \n",
    "print('Basic Linear Regression mean cv r^2: %.3f +- %.3f' %(np.mean(cv_lm_r2s),np.std(cv_lm_r2s)))\n",
    "#print('Basic Linear Regression mean cv RMSE: %.3f +- %.3f' %(np.mean(cv_lm_rmse),np.std(cv_lm_rmse)))"
   ]
  },
  {
   "cell_type": "code",
   "execution_count": 36,
   "metadata": {},
   "outputs": [],
   "source": [
    "a = lr_model_1.predict(X_test)"
   ]
  },
  {
   "cell_type": "code",
   "execution_count": 37,
   "metadata": {},
   "outputs": [
    {
     "data": {
      "text/plain": [
       "array([5.40033835])"
      ]
     },
     "execution_count": 37,
     "metadata": {},
     "output_type": "execute_result"
    }
   ],
   "source": [
    "a[4]"
   ]
  },
  {
   "cell_type": "code",
   "execution_count": 38,
   "metadata": {},
   "outputs": [
    {
     "data": {
      "text/html": [
       "<div>\n",
       "<style scoped>\n",
       "    .dataframe tbody tr th:only-of-type {\n",
       "        vertical-align: middle;\n",
       "    }\n",
       "\n",
       "    .dataframe tbody tr th {\n",
       "        vertical-align: top;\n",
       "    }\n",
       "\n",
       "    .dataframe thead th {\n",
       "        text-align: right;\n",
       "    }\n",
       "</style>\n",
       "<table border=\"1\" class=\"dataframe\">\n",
       "  <thead>\n",
       "    <tr style=\"text-align: right;\">\n",
       "      <th></th>\n",
       "      <th>rating</th>\n",
       "    </tr>\n",
       "  </thead>\n",
       "  <tbody>\n",
       "    <tr>\n",
       "      <th>15</th>\n",
       "      <td>8.849575</td>\n",
       "    </tr>\n",
       "    <tr>\n",
       "      <th>24</th>\n",
       "      <td>6.509677</td>\n",
       "    </tr>\n",
       "    <tr>\n",
       "      <th>0</th>\n",
       "      <td>11.557545</td>\n",
       "    </tr>\n",
       "    <tr>\n",
       "      <th>15</th>\n",
       "      <td>11.557545</td>\n",
       "    </tr>\n",
       "    <tr>\n",
       "      <th>22</th>\n",
       "      <td>1.611256</td>\n",
       "    </tr>\n",
       "    <tr>\n",
       "      <th>10</th>\n",
       "      <td>8.849575</td>\n",
       "    </tr>\n",
       "    <tr>\n",
       "      <th>18</th>\n",
       "      <td>11.557545</td>\n",
       "    </tr>\n",
       "    <tr>\n",
       "      <th>40</th>\n",
       "      <td>8.849575</td>\n",
       "    </tr>\n",
       "    <tr>\n",
       "      <th>4</th>\n",
       "      <td>8.849575</td>\n",
       "    </tr>\n",
       "    <tr>\n",
       "      <th>17</th>\n",
       "      <td>6.509677</td>\n",
       "    </tr>\n",
       "    <tr>\n",
       "      <th>56</th>\n",
       "      <td>6.509677</td>\n",
       "    </tr>\n",
       "    <tr>\n",
       "      <th>20</th>\n",
       "      <td>6.509677</td>\n",
       "    </tr>\n",
       "    <tr>\n",
       "      <th>23</th>\n",
       "      <td>4.529692</td>\n",
       "    </tr>\n",
       "    <tr>\n",
       "      <th>2</th>\n",
       "      <td>4.529692</td>\n",
       "    </tr>\n",
       "    <tr>\n",
       "      <th>4</th>\n",
       "      <td>0.000000</td>\n",
       "    </tr>\n",
       "    <tr>\n",
       "      <th>50</th>\n",
       "      <td>6.509677</td>\n",
       "    </tr>\n",
       "    <tr>\n",
       "      <th>1</th>\n",
       "      <td>11.557545</td>\n",
       "    </tr>\n",
       "    <tr>\n",
       "      <th>28</th>\n",
       "      <td>6.509677</td>\n",
       "    </tr>\n",
       "    <tr>\n",
       "      <th>29</th>\n",
       "      <td>6.509677</td>\n",
       "    </tr>\n",
       "    <tr>\n",
       "      <th>2</th>\n",
       "      <td>8.849575</td>\n",
       "    </tr>\n",
       "    <tr>\n",
       "      <th>26</th>\n",
       "      <td>8.849575</td>\n",
       "    </tr>\n",
       "    <tr>\n",
       "      <th>18</th>\n",
       "      <td>4.529692</td>\n",
       "    </tr>\n",
       "    <tr>\n",
       "      <th>10</th>\n",
       "      <td>6.509677</td>\n",
       "    </tr>\n",
       "    <tr>\n",
       "      <th>34</th>\n",
       "      <td>4.529692</td>\n",
       "    </tr>\n",
       "    <tr>\n",
       "      <th>4</th>\n",
       "      <td>6.509677</td>\n",
       "    </tr>\n",
       "    <tr>\n",
       "      <th>1</th>\n",
       "      <td>11.557545</td>\n",
       "    </tr>\n",
       "    <tr>\n",
       "      <th>13</th>\n",
       "      <td>8.849575</td>\n",
       "    </tr>\n",
       "    <tr>\n",
       "      <th>25</th>\n",
       "      <td>6.509677</td>\n",
       "    </tr>\n",
       "    <tr>\n",
       "      <th>7</th>\n",
       "      <td>6.509677</td>\n",
       "    </tr>\n",
       "    <tr>\n",
       "      <th>19</th>\n",
       "      <td>8.849575</td>\n",
       "    </tr>\n",
       "    <tr>\n",
       "      <th>27</th>\n",
       "      <td>11.557545</td>\n",
       "    </tr>\n",
       "    <tr>\n",
       "      <th>23</th>\n",
       "      <td>1.611256</td>\n",
       "    </tr>\n",
       "    <tr>\n",
       "      <th>7</th>\n",
       "      <td>6.509677</td>\n",
       "    </tr>\n",
       "    <tr>\n",
       "      <th>1</th>\n",
       "      <td>6.509677</td>\n",
       "    </tr>\n",
       "    <tr>\n",
       "      <th>3</th>\n",
       "      <td>11.557545</td>\n",
       "    </tr>\n",
       "    <tr>\n",
       "      <th>17</th>\n",
       "      <td>11.557545</td>\n",
       "    </tr>\n",
       "    <tr>\n",
       "      <th>24</th>\n",
       "      <td>6.509677</td>\n",
       "    </tr>\n",
       "    <tr>\n",
       "      <th>0</th>\n",
       "      <td>8.849575</td>\n",
       "    </tr>\n",
       "    <tr>\n",
       "      <th>49</th>\n",
       "      <td>4.529692</td>\n",
       "    </tr>\n",
       "    <tr>\n",
       "      <th>24</th>\n",
       "      <td>0.649646</td>\n",
       "    </tr>\n",
       "    <tr>\n",
       "      <th>37</th>\n",
       "      <td>8.849575</td>\n",
       "    </tr>\n",
       "    <tr>\n",
       "      <th>22</th>\n",
       "      <td>11.557545</td>\n",
       "    </tr>\n",
       "    <tr>\n",
       "      <th>18</th>\n",
       "      <td>11.557545</td>\n",
       "    </tr>\n",
       "    <tr>\n",
       "      <th>11</th>\n",
       "      <td>8.849575</td>\n",
       "    </tr>\n",
       "    <tr>\n",
       "      <th>7</th>\n",
       "      <td>11.557545</td>\n",
       "    </tr>\n",
       "    <tr>\n",
       "      <th>39</th>\n",
       "      <td>11.557545</td>\n",
       "    </tr>\n",
       "    <tr>\n",
       "      <th>21</th>\n",
       "      <td>2.900417</td>\n",
       "    </tr>\n",
       "    <tr>\n",
       "      <th>7</th>\n",
       "      <td>11.557545</td>\n",
       "    </tr>\n",
       "    <tr>\n",
       "      <th>5</th>\n",
       "      <td>11.557545</td>\n",
       "    </tr>\n",
       "    <tr>\n",
       "      <th>33</th>\n",
       "      <td>6.509677</td>\n",
       "    </tr>\n",
       "    <tr>\n",
       "      <th>21</th>\n",
       "      <td>4.529692</td>\n",
       "    </tr>\n",
       "    <tr>\n",
       "      <th>21</th>\n",
       "      <td>4.529692</td>\n",
       "    </tr>\n",
       "    <tr>\n",
       "      <th>4</th>\n",
       "      <td>8.849575</td>\n",
       "    </tr>\n",
       "    <tr>\n",
       "      <th>46</th>\n",
       "      <td>6.509677</td>\n",
       "    </tr>\n",
       "    <tr>\n",
       "      <th>13</th>\n",
       "      <td>14.640934</td>\n",
       "    </tr>\n",
       "    <tr>\n",
       "      <th>16</th>\n",
       "      <td>11.557545</td>\n",
       "    </tr>\n",
       "    <tr>\n",
       "      <th>3</th>\n",
       "      <td>8.849575</td>\n",
       "    </tr>\n",
       "    <tr>\n",
       "      <th>8</th>\n",
       "      <td>4.529692</td>\n",
       "    </tr>\n",
       "    <tr>\n",
       "      <th>1</th>\n",
       "      <td>8.849575</td>\n",
       "    </tr>\n",
       "  </tbody>\n",
       "</table>\n",
       "</div>"
      ],
      "text/plain": [
       "       rating\n",
       "15   8.849575\n",
       "24   6.509677\n",
       "0   11.557545\n",
       "15  11.557545\n",
       "22   1.611256\n",
       "10   8.849575\n",
       "18  11.557545\n",
       "40   8.849575\n",
       "4    8.849575\n",
       "17   6.509677\n",
       "56   6.509677\n",
       "20   6.509677\n",
       "23   4.529692\n",
       "2    4.529692\n",
       "4    0.000000\n",
       "50   6.509677\n",
       "1   11.557545\n",
       "28   6.509677\n",
       "29   6.509677\n",
       "2    8.849575\n",
       "26   8.849575\n",
       "18   4.529692\n",
       "10   6.509677\n",
       "34   4.529692\n",
       "4    6.509677\n",
       "1   11.557545\n",
       "13   8.849575\n",
       "25   6.509677\n",
       "7    6.509677\n",
       "19   8.849575\n",
       "27  11.557545\n",
       "23   1.611256\n",
       "7    6.509677\n",
       "1    6.509677\n",
       "3   11.557545\n",
       "17  11.557545\n",
       "24   6.509677\n",
       "0    8.849575\n",
       "49   4.529692\n",
       "24   0.649646\n",
       "37   8.849575\n",
       "22  11.557545\n",
       "18  11.557545\n",
       "11   8.849575\n",
       "7   11.557545\n",
       "39  11.557545\n",
       "21   2.900417\n",
       "7   11.557545\n",
       "5   11.557545\n",
       "33   6.509677\n",
       "21   4.529692\n",
       "21   4.529692\n",
       "4    8.849575\n",
       "46   6.509677\n",
       "13  14.640934\n",
       "16  11.557545\n",
       "3    8.849575\n",
       "8    4.529692\n",
       "1    8.849575"
      ]
     },
     "execution_count": 38,
     "metadata": {},
     "output_type": "execute_result"
    }
   ],
   "source": [
    "y_test"
   ]
  },
  {
   "cell_type": "code",
   "execution_count": 39,
   "metadata": {},
   "outputs": [
    {
     "data": {
      "text/plain": [
       "rating    6.182327\n",
       "dtype: float64"
      ]
     },
     "execution_count": 39,
     "metadata": {},
     "output_type": "execute_result"
    }
   ],
   "source": [
    "#mean squared error MSE\n",
    "np.mean((a-y_test)**2)"
   ]
  },
  {
   "cell_type": "code",
   "execution_count": 40,
   "metadata": {},
   "outputs": [
    {
     "data": {
      "text/plain": [
       "rating    2.486429\n",
       "dtype: float64"
      ]
     },
     "execution_count": 40,
     "metadata": {},
     "output_type": "execute_result"
    }
   ],
   "source": [
    "#RMSE\n",
    "np.sqrt(np.mean((a-y_test)**2))"
   ]
  },
  {
   "cell_type": "code",
   "execution_count": 41,
   "metadata": {},
   "outputs": [],
   "source": [
    "#set up the 3 models to compare:\n",
    "\n",
    "lm = LinearRegression()\n",
    "\n",
    "#Feature scaling for train, val, and test so that we can run our ridge model on each\n",
    "scaler = StandardScaler()\n",
    "\n",
    "X_train_scaled = scaler.fit_transform(X_train.values)\n",
    "X_val_scaled = scaler.transform(X_val.values)\n",
    "X_test_scaled = scaler.transform(X_test.values)\n",
    "\n",
    "lm_reg = Ridge(alpha=1)\n",
    "\n",
    "#Feature transforms for train, val, and test so that we can run our poly model on each\n",
    "poly = PolynomialFeatures(degree=2) \n",
    "\n",
    "X_train_poly = poly.fit_transform(X_train.values)\n",
    "X_val_poly = poly.transform(X_val.values)\n",
    "X_test_poly = poly.transform(X_test.values)\n",
    "\n",
    "lm_poly = LinearRegression()"
   ]
  },
  {
   "cell_type": "code",
   "execution_count": 42,
   "metadata": {},
   "outputs": [
    {
     "name": "stdout",
     "output_type": "stream",
     "text": [
      "Linear Regression val R^2: 0.129\n",
      "Ridge Regression val R^2: 0.117\n",
      "Degree 2 polynomial regression val R^2: -0.013\n"
     ]
    }
   ],
   "source": [
    "#validate #3 models\n",
    "\n",
    "lm.fit(X_train, y_train)\n",
    "print(f'Linear Regression val R^2: {lm.score(X_val, y_val):.3f}')\n",
    "\n",
    "lm_reg.fit(X_train_scaled, y_train)\n",
    "print(f'Ridge Regression val R^2: {lm_reg.score(X_val_scaled, y_val):.3f}')\n",
    "\n",
    "lm_poly.fit(X_train_poly, y_train)\n",
    "print(f'Degree 2 polynomial regression val R^2: {lm_poly.score(X_val_poly, y_val):.3f}')"
   ]
  },
  {
   "cell_type": "code",
   "execution_count": 43,
   "metadata": {},
   "outputs": [],
   "source": [
    "#cross validation\n",
    "from sklearn.model_selection import KFold\n",
    "\n",
    "X, X_test, y, y_test = train_test_split(X, y, test_size=.2, random_state=10) #hold out 20% of the data for final testing\n",
    "\n",
    "#this helps with the way kf will generate indices below\n",
    "X, y = np.array(X), np.array(y)"
   ]
  },
  {
   "cell_type": "code",
   "execution_count": 44,
   "metadata": {},
   "outputs": [
    {
     "name": "stdout",
     "output_type": "stream",
     "text": [
      "Simple regression scores:  [0.27078298510694876, 0.2154398873834592, 0.10496714546360564, 0.16196912115870432, 0.25528647508134306]\n",
      "Ridge scores:  [0.3097694971933813, 0.20429173931924327, 0.09393600594411777, 0.1740000469310523, 0.23220481167439078] \n",
      "\n",
      "Simple mean cv r^2: 0.202 +- 0.061\n",
      "Ridge mean cv r^2: 0.203 +- 0.071\n"
     ]
    }
   ],
   "source": [
    "#run the CV\n",
    "\n",
    "kf = KFold(n_splits=5, shuffle=True, random_state = 71)\n",
    "cv_lm_r2s, cv_lm_reg_r2s = [], [] #collect the validation results for both models\n",
    "\n",
    "for train_ind, val_ind in kf.split(X,y):\n",
    "    \n",
    "    X_train, y_train = X[train_ind], y[train_ind]\n",
    "    X_val, y_val = X[val_ind], y[val_ind] \n",
    "    \n",
    "    #simple linear regression\n",
    "    lm = LinearRegression()\n",
    "    lm_reg = Ridge(alpha=1)\n",
    "\n",
    "    lm.fit(X_train, y_train)\n",
    "    cv_lm_r2s.append(lm.score(X_val, y_val))\n",
    "    \n",
    "    #ridge with feature scaling\n",
    "    scaler = StandardScaler()\n",
    "    X_train_scaled = scaler.fit_transform(X_train)\n",
    "    X_val_scaled = scaler.transform(X_val)\n",
    "    \n",
    "    lm_reg.fit(X_train_scaled, y_train)\n",
    "    cv_lm_reg_r2s.append(lm_reg.score(X_val_scaled, y_val))\n",
    "\n",
    "print('Simple regression scores: ', cv_lm_r2s)\n",
    "print('Ridge scores: ', cv_lm_reg_r2s, '\\n')\n",
    "\n",
    "print(f'Simple mean cv r^2: {np.mean(cv_lm_r2s):.3f} +- {np.std(cv_lm_r2s):.3f}')\n",
    "print(f'Ridge mean cv r^2: {np.mean(cv_lm_reg_r2s):.3f} +- {np.std(cv_lm_reg_r2s):.3f}')"
   ]
  },
  {
   "cell_type": "code",
   "execution_count": 45,
   "metadata": {},
   "outputs": [
    {
     "name": "stdout",
     "output_type": "stream",
     "text": [
      "Ridge Regression test R^2: 0.117\n"
     ]
    }
   ],
   "source": [
    "scaler = StandardScaler()\n",
    "X_scaled = scaler.fit_transform(X)\n",
    "X_test_scaled = scaler.transform(X_test)\n",
    "\n",
    "lm_reg = Ridge(alpha=1)\n",
    "lm_reg.fit(X_scaled,y)\n",
    "print(f'Ridge Regression test R^2: {lm_reg.score(X_test_scaled, y_test):.3f}')"
   ]
  },
  {
   "cell_type": "markdown",
   "metadata": {},
   "source": [
    "### Ridge Regression"
   ]
  },
  {
   "cell_type": "code",
   "execution_count": 47,
   "metadata": {},
   "outputs": [
    {
     "name": "stdout",
     "output_type": "stream",
     "text": [
      "<class 'pandas.core.frame.DataFrame'>\n",
      "Int64Index: 292 entries, 19 to 39\n",
      "Data columns (total 11 columns):\n",
      "walk_score          292 non-null int64\n",
      "res_score           292 non-null float64\n",
      "attraction_score    292 non-null float64\n",
      "num_reviews         292 non-null float64\n",
      "num_QA              292 non-null float64\n",
      "num_Tips            292 non-null float64\n",
      "num_rooms           292 non-null float64\n",
      "min_price           292 non-null float64\n",
      "max_price           292 non-null float64\n",
      "avg_price           292 non-null float64\n",
      "walk_perfect        292 non-null uint8\n",
      "dtypes: float64(9), int64(1), uint8(1)\n",
      "memory usage: 25.4 KB\n"
     ]
    }
   ],
   "source": [
    "y = df.rating\n",
    "X_= df.drop(['rating','walk_perfect', 'hotel_name'], axis = 1)\n",
    "X = pd.concat([X_, df[['walk_perfect']]], axis = 1)\n",
    "X.info()"
   ]
  },
  {
   "cell_type": "code",
   "execution_count": 48,
   "metadata": {},
   "outputs": [],
   "source": [
    "alphas = 10**np.linspace(10,-2,100)*0.5"
   ]
  },
  {
   "cell_type": "code",
   "execution_count": 49,
   "metadata": {},
   "outputs": [
    {
     "data": {
      "text/plain": [
       "(100, 11)"
      ]
     },
     "execution_count": 49,
     "metadata": {},
     "output_type": "execute_result"
    }
   ],
   "source": [
    "ridge = Ridge(normalize = True)\n",
    "coefs = []\n",
    "\n",
    "for a in alphas:\n",
    "    ridge.set_params(alpha = a)\n",
    "    ridge.fit(X, y)\n",
    "    coefs.append(ridge.coef_)\n",
    "    \n",
    "np.shape(coefs)"
   ]
  },
  {
   "cell_type": "code",
   "execution_count": 50,
   "metadata": {},
   "outputs": [
    {
     "data": {
      "text/plain": [
       "Text(0, 0.5, 'weights')"
      ]
     },
     "execution_count": 50,
     "metadata": {},
     "output_type": "execute_result"
    },
    {
     "data": {
      "image/png": "[encoded data removed]",
      "text/plain": [
       "<Figure size 432x288 with 1 Axes>"
      ]
     },
     "metadata": {
      "needs_background": "light"
     },
     "output_type": "display_data"
    }
   ],
   "source": [
    "ax = plt.gca()\n",
    "ax.plot(alphas, coefs)\n",
    "ax.set_xscale('log')\n",
    "plt.axis('tight')\n",
    "plt.xlabel('alpha')\n",
    "plt.ylabel('weights')"
   ]
  },
  {
   "cell_type": "code",
   "execution_count": 51,
   "metadata": {},
   "outputs": [],
   "source": [
    "#Split the data 60 - 20 - 20 train/val/test\n",
    "\n",
    "X_train_val, X_test, y_train_val, y_test = train_test_split(X, y, test_size=0.2,random_state=42)\n",
    "X_train, X_val, y_train, y_val = train_test_split(X_train_val, y_train_val, test_size=.25, random_state=43)"
   ]
  },
  {
   "cell_type": "code",
   "execution_count": 52,
   "metadata": {},
   "outputs": [
    {
     "name": "stdout",
     "output_type": "stream",
     "text": [
      "walk_score          0.002794\n",
      "res_score           0.006124\n",
      "attraction_score    0.022002\n",
      "num_reviews         0.019568\n",
      "num_QA              0.061269\n",
      "num_Tips            0.061269\n",
      "num_rooms          -0.016480\n",
      "min_price           0.124354\n",
      "max_price           1.065395\n",
      "avg_price           0.749216\n",
      "walk_perfect       -0.010755\n",
      "dtype: float64\n",
      "8.374740444868007\n"
     ]
    }
   ],
   "source": [
    "ridge2 = Ridge(alpha = 4, normalize = True)\n",
    "ridge2.fit(X_train, y_train)             # Fit a ridge regression on the training data\n",
    "pred2 = ridge2.predict(X_test)           # Use this model to predict the test data\n",
    "print(pd.Series(ridge2.coef_, index = X.columns)) # Print coefficients\n",
    "print(mean_squared_error(y_test, pred2))"
   ]
  },
  {
   "cell_type": "code",
   "execution_count": 53,
   "metadata": {},
   "outputs": [
    {
     "data": {
      "text/plain": [
       "0.24885117821660568"
      ]
     },
     "execution_count": 53,
     "metadata": {},
     "output_type": "execute_result"
    }
   ],
   "source": [
    "#using CV to choose alpha\n",
    "ridgecv = RidgeCV(alphas = alphas, scoring = 'neg_mean_squared_error', normalize = True)\n",
    "ridgecv.fit(X_train, y_train)\n",
    "ridgecv.alpha_"
   ]
  },
  {
   "cell_type": "code",
   "execution_count": 54,
   "metadata": {},
   "outputs": [
    {
     "data": {
      "text/plain": [
       "7.476898240155887"
      ]
     },
     "execution_count": 54,
     "metadata": {},
     "output_type": "execute_result"
    }
   ],
   "source": [
    "ridge4 = Ridge(alpha = ridgecv.alpha_, normalize = True)\n",
    "ridge4.fit(X_train, y_train)\n",
    "mean_squared_error(y_test, ridge4.predict(X_test))"
   ]
  },
  {
   "cell_type": "code",
   "execution_count": 55,
   "metadata": {},
   "outputs": [
    {
     "data": {
      "text/plain": [
       "walk_score          0.011646\n",
       "res_score           0.080887\n",
       "attraction_score    0.149102\n",
       "num_reviews        -0.031429\n",
       "num_QA              0.207468\n",
       "num_Tips            0.207468\n",
       "num_rooms          -0.225818\n",
       "min_price           0.396166\n",
       "max_price           2.721462\n",
       "avg_price           1.809626\n",
       "walk_perfect       -0.439398\n",
       "dtype: float64"
      ]
     },
     "execution_count": 55,
     "metadata": {},
     "output_type": "execute_result"
    }
   ],
   "source": [
    "ridge4.fit(X, y)\n",
    "pd.Series(ridge4.coef_, index = X.columns)"
   ]
  },
  {
   "cell_type": "code",
   "execution_count": 56,
   "metadata": {},
   "outputs": [
    {
     "data": {
      "text/plain": [
       "2.5412360104742198"
      ]
     },
     "execution_count": 56,
     "metadata": {},
     "output_type": "execute_result"
    }
   ],
   "source": [
    "#RMSE\n",
    "np.sqrt(mean_squared_error(y_test, ridge4.predict(X_test)))"
   ]
  },
  {
   "cell_type": "code",
   "execution_count": null,
   "metadata": {},
   "outputs": [],
   "source": []
  }
 ],
 "metadata": {
  "kernelspec": {
   "display_name": "Python 3",
   "language": "python",
   "name": "python3"
  },
  "language_info": {
   "codemirror_mode": {
    "name": "ipython",
    "version": 3
   },
   "file_extension": ".py",
   "mimetype": "text/x-python",
   "name": "python",
   "nbconvert_exporter": "python",
   "pygments_lexer": "ipython3",
   "version": "3.7.4"
  }
 },
 "nbformat": 4,
 "nbformat_minor": 4
}
